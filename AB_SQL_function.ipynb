{
 "cells": [
  {
   "cell_type": "code",
   "execution_count": 1,
   "metadata": {},
   "outputs": [],
   "source": [
    "import warnings\n",
    "warnings.filterwarnings(\"ignore\")\n",
    "import requests \n",
    "from urllib.parse import urlencode \n",
    "\n",
    "import pandas as pd\n",
    "import numpy as np\n",
    "import seaborn as sns\n",
    "import scipy\n",
    "from scipy import stats\n",
    "import plotly.express as px\n",
    "import matplotlib.pyplot as plt\n",
    "import pandahouse as ph\n",
    "\n",
    "sns.set(\n",
    "    font_scale =1.5,\n",
    "    style      ='darkgrid',\n",
    "    rc         ={'figure.figsize':(9,5)})"
   ]
  },
  {
   "cell_type": "markdown",
   "metadata": {},
   "source": [
    "## Задание 1. A/B–тестирование\n",
    "\n",
    "1.1 Условие\n",
    "\n",
    "Одной из основных задач аналитика в нашей команде является корректное проведение экспериментов. Для этого мы применяем метод A/B–тестирования. В ходе тестирования одной гипотезы целевой группе была предложена новая механика оплаты услуг на сайте, у контрольной группы оставалась базовая механика. В качестве задания Вам необходимо проанализировать итоги эксперимента и сделать вывод, стоит ли запускать новую механику оплаты на всех пользователей.\n",
    "\n",
    "1.2 Входные данные\n",
    "\n",
    "В качестве входных данных Вы имеете 4 csv-файла:\n",
    "\n",
    "    groups.csv - файл с информацией о принадлежности пользователя к контрольной или экспериментальной группе (А – контроль, B – целевая группа) \n",
    "    groups_add.csv - дополнительный файл с пользователями, который вам прислали спустя 2 дня после передачи данных\n",
    "    active_studs.csv - файл с информацией о пользователях, которые зашли на платформу в дни проведения эксперимента. \n",
    "    checks.csv - файл с информацией об оплатах пользователей в дни проведения эксперимента. \n",
    "\n",
    "1.3 Вопросы\n",
    "\n",
    "Предлагаем Вам ответить на следующие вопросы:\n",
    "\n",
    "    На какие метрики Вы смотрите в ходе анализа и почему?\n",
    "    Имеются ли различия в показателях и с чем они могут быть связаны?\n",
    "    Являются ли эти различия статистически значимыми?\n",
    "    Стоит ли запускать новую механику на всех пользователей?\n",
    "\n",
    "Данный список вопросов не является обязательным, и Вы можете при своём ответе опираться на собственный план.\n",
    "\n",
    "1.4 Требования к ответу\n",
    "\n",
    "    При выполнении тестового задания необходимо использовать язык программирования Python. \n",
    "    В файле обязательно должны быть комментарии к тем действиям, которые Вы выполняете с данными. \n",
    "    Файл должен представлять собой законченный отчёт с выводами, сделанными в ходе исследования."
   ]
  },
  {
   "cell_type": "markdown",
   "metadata": {},
   "source": [
    "Приступим.\n",
    "Первым делом подгрузим имеющиемся данные, посмотрим описательные характеристики, проведем предобработку, проверим, присутствуют ли пропущенные значения в данных, поменяем типы данных, если это необходимо."
   ]
  },
  {
   "cell_type": "code",
   "execution_count": 2,
   "metadata": {},
   "outputs": [],
   "source": [
    "groups = pd.read_csv(r'Проект_2_groups.csv', sep = ';')\n",
    "group_add = pd.read_csv(r'Проект_2_group_add.csv', sep = ',')\n",
    "active_studs = pd.read_csv(r'Проект_2_active_studs.csv', sep = ';')\n",
    "checks = pd.read_csv(r'Проект_2_checks.csv', sep = ';')"
   ]
  },
  {
   "cell_type": "code",
   "execution_count": 3,
   "metadata": {},
   "outputs": [
    {
     "data": {
      "text/html": [
       "<div>\n",
       "<style scoped>\n",
       "    .dataframe tbody tr th:only-of-type {\n",
       "        vertical-align: middle;\n",
       "    }\n",
       "\n",
       "    .dataframe tbody tr th {\n",
       "        vertical-align: top;\n",
       "    }\n",
       "\n",
       "    .dataframe thead th {\n",
       "        text-align: right;\n",
       "    }\n",
       "</style>\n",
       "<table border=\"1\" class=\"dataframe\">\n",
       "  <thead>\n",
       "    <tr style=\"text-align: right;\">\n",
       "      <th></th>\n",
       "      <th>id</th>\n",
       "      <th>grp</th>\n",
       "    </tr>\n",
       "  </thead>\n",
       "  <tbody>\n",
       "    <tr>\n",
       "      <th>0</th>\n",
       "      <td>1489</td>\n",
       "      <td>B</td>\n",
       "    </tr>\n",
       "    <tr>\n",
       "      <th>1</th>\n",
       "      <td>1627</td>\n",
       "      <td>A</td>\n",
       "    </tr>\n",
       "    <tr>\n",
       "      <th>2</th>\n",
       "      <td>1768</td>\n",
       "      <td>B</td>\n",
       "    </tr>\n",
       "    <tr>\n",
       "      <th>3</th>\n",
       "      <td>1783</td>\n",
       "      <td>B</td>\n",
       "    </tr>\n",
       "    <tr>\n",
       "      <th>4</th>\n",
       "      <td>1794</td>\n",
       "      <td>A</td>\n",
       "    </tr>\n",
       "  </tbody>\n",
       "</table>\n",
       "</div>"
      ],
      "text/plain": [
       "     id grp\n",
       "0  1489   B\n",
       "1  1627   A\n",
       "2  1768   B\n",
       "3  1783   B\n",
       "4  1794   A"
      ]
     },
     "execution_count": 3,
     "metadata": {},
     "output_type": "execute_result"
    }
   ],
   "source": [
    "groups.head()"
   ]
  },
  {
   "cell_type": "code",
   "execution_count": 4,
   "metadata": {},
   "outputs": [],
   "source": [
    "groups = groups.rename(columns = {'id': 'student_id'})"
   ]
  },
  {
   "cell_type": "code",
   "execution_count": 5,
   "metadata": {},
   "outputs": [
    {
     "data": {
      "text/plain": [
       "(74484, 2)"
      ]
     },
     "metadata": {},
     "output_type": "display_data"
    },
    {
     "data": {
      "text/plain": [
       "0"
      ]
     },
     "metadata": {},
     "output_type": "display_data"
    },
    {
     "data": {
      "text/plain": [
       "student_id    0\n",
       "grp           0\n",
       "dtype: int64"
      ]
     },
     "metadata": {},
     "output_type": "display_data"
    }
   ],
   "source": [
    "display(groups.shape, \\\n",
    "        groups.duplicated().sum(), \\\n",
    "        groups.isna().sum())"
   ]
  },
  {
   "cell_type": "markdown",
   "metadata": {},
   "source": [
    " Пропущенных значений и дубликатов в таблице groups нет.\n",
    " \\\n",
    " Посмотрим на количество пользователей в каждой группе."
   ]
  },
  {
   "cell_type": "code",
   "execution_count": 6,
   "metadata": {},
   "outputs": [
    {
     "data": {
      "text/html": [
       "<div>\n",
       "<style scoped>\n",
       "    .dataframe tbody tr th:only-of-type {\n",
       "        vertical-align: middle;\n",
       "    }\n",
       "\n",
       "    .dataframe tbody tr th {\n",
       "        vertical-align: top;\n",
       "    }\n",
       "\n",
       "    .dataframe thead th {\n",
       "        text-align: right;\n",
       "    }\n",
       "</style>\n",
       "<table border=\"1\" class=\"dataframe\">\n",
       "  <thead>\n",
       "    <tr style=\"text-align: right;\">\n",
       "      <th></th>\n",
       "      <th>grp</th>\n",
       "      <th>student_id</th>\n",
       "    </tr>\n",
       "  </thead>\n",
       "  <tbody>\n",
       "    <tr>\n",
       "      <th>0</th>\n",
       "      <td>A</td>\n",
       "      <td>14671</td>\n",
       "    </tr>\n",
       "    <tr>\n",
       "      <th>1</th>\n",
       "      <td>B</td>\n",
       "      <td>59813</td>\n",
       "    </tr>\n",
       "  </tbody>\n",
       "</table>\n",
       "</div>"
      ],
      "text/plain": [
       "  grp  student_id\n",
       "0   A       14671\n",
       "1   B       59813"
      ]
     },
     "execution_count": 6,
     "metadata": {},
     "output_type": "execute_result"
    }
   ],
   "source": [
    "groups.groupby('grp', as_index = False).count()"
   ]
  },
  {
   "cell_type": "code",
   "execution_count": 7,
   "metadata": {},
   "outputs": [
    {
     "data": {
      "image/png": "[encoded data removed]",
      "text/plain": [
       "<Figure size 648x360 with 1 Axes>"
      ]
     },
     "metadata": {},
     "output_type": "display_data"
    }
   ],
   "source": [
    "ax = sns.countplot(x = groups['grp'].sort_values())\n",
    "ax.set_title('Количество пользователей\\n')\n",
    "ax.set_xlabel('Group');"
   ]
  },
  {
   "cell_type": "markdown",
   "metadata": {},
   "source": [
    "В контрольной группе (А) 14671 чел, в тестовой (B) – 59813 чел.  \n",
    "\\\n",
    "Как правило, выборка тестовой группы меньше контрольной. Полученное же распределение по группам выглядит довольно странно."
   ]
  },
  {
   "cell_type": "code",
   "execution_count": 8,
   "metadata": {},
   "outputs": [
    {
     "data": {
      "text/html": [
       "<div>\n",
       "<style scoped>\n",
       "    .dataframe tbody tr th:only-of-type {\n",
       "        vertical-align: middle;\n",
       "    }\n",
       "\n",
       "    .dataframe tbody tr th {\n",
       "        vertical-align: top;\n",
       "    }\n",
       "\n",
       "    .dataframe thead th {\n",
       "        text-align: right;\n",
       "    }\n",
       "</style>\n",
       "<table border=\"1\" class=\"dataframe\">\n",
       "  <thead>\n",
       "    <tr style=\"text-align: right;\">\n",
       "      <th></th>\n",
       "      <th>student_id</th>\n",
       "    </tr>\n",
       "  </thead>\n",
       "  <tbody>\n",
       "    <tr>\n",
       "      <th>0</th>\n",
       "      <td>581585</td>\n",
       "    </tr>\n",
       "    <tr>\n",
       "      <th>1</th>\n",
       "      <td>5723133</td>\n",
       "    </tr>\n",
       "    <tr>\n",
       "      <th>2</th>\n",
       "      <td>3276743</td>\n",
       "    </tr>\n",
       "    <tr>\n",
       "      <th>3</th>\n",
       "      <td>4238589</td>\n",
       "    </tr>\n",
       "    <tr>\n",
       "      <th>4</th>\n",
       "      <td>4475369</td>\n",
       "    </tr>\n",
       "  </tbody>\n",
       "</table>\n",
       "</div>"
      ],
      "text/plain": [
       "   student_id\n",
       "0      581585\n",
       "1     5723133\n",
       "2     3276743\n",
       "3     4238589\n",
       "4     4475369"
      ]
     },
     "execution_count": 8,
     "metadata": {},
     "output_type": "execute_result"
    }
   ],
   "source": [
    "active_studs.head()"
   ]
  },
  {
   "cell_type": "code",
   "execution_count": 9,
   "metadata": {},
   "outputs": [
    {
     "data": {
      "text/plain": [
       "(8341, 1)"
      ]
     },
     "metadata": {},
     "output_type": "display_data"
    },
    {
     "data": {
      "text/plain": [
       "0"
      ]
     },
     "metadata": {},
     "output_type": "display_data"
    },
    {
     "data": {
      "text/plain": [
       "student_id    0\n",
       "dtype: int64"
      ]
     },
     "metadata": {},
     "output_type": "display_data"
    }
   ],
   "source": [
    "display(active_studs.shape, \\\n",
    "        active_studs.duplicated().sum(), \\\n",
    "        active_studs.isna().sum())"
   ]
  },
  {
   "cell_type": "markdown",
   "metadata": {},
   "source": [
    " Пропущенных значений и дубликатов в таблице active_studs нет.\n",
    " \\\n",
    " На платформу в дни проведения эксперимента заходило 8341 человек. Проверим всем ли была присвоена группа А или В:"
   ]
  },
  {
   "cell_type": "code",
   "execution_count": 10,
   "metadata": {},
   "outputs": [
    {
     "data": {
      "text/plain": [
       "True     8328\n",
       "False      13\n",
       "Name: student_id, dtype: int64"
      ]
     },
     "execution_count": 10,
     "metadata": {},
     "output_type": "execute_result"
    }
   ],
   "source": [
    "active_studs.student_id.isin(groups.student_id).value_counts()"
   ]
  },
  {
   "cell_type": "markdown",
   "metadata": {},
   "source": [
    "13 активных пользователей без указания группы. Их в дальнейшем учитывать не будем."
   ]
  },
  {
   "cell_type": "code",
   "execution_count": 11,
   "metadata": {},
   "outputs": [
    {
     "data": {
      "text/html": [
       "<div>\n",
       "<style scoped>\n",
       "    .dataframe tbody tr th:only-of-type {\n",
       "        vertical-align: middle;\n",
       "    }\n",
       "\n",
       "    .dataframe tbody tr th {\n",
       "        vertical-align: top;\n",
       "    }\n",
       "\n",
       "    .dataframe thead th {\n",
       "        text-align: right;\n",
       "    }\n",
       "</style>\n",
       "<table border=\"1\" class=\"dataframe\">\n",
       "  <thead>\n",
       "    <tr style=\"text-align: right;\">\n",
       "      <th></th>\n",
       "      <th>student_id</th>\n",
       "      <th>rev</th>\n",
       "    </tr>\n",
       "  </thead>\n",
       "  <tbody>\n",
       "    <tr>\n",
       "      <th>0</th>\n",
       "      <td>1627</td>\n",
       "      <td>990.0</td>\n",
       "    </tr>\n",
       "    <tr>\n",
       "      <th>1</th>\n",
       "      <td>3185</td>\n",
       "      <td>690.0</td>\n",
       "    </tr>\n",
       "    <tr>\n",
       "      <th>2</th>\n",
       "      <td>25973</td>\n",
       "      <td>690.0</td>\n",
       "    </tr>\n",
       "    <tr>\n",
       "      <th>3</th>\n",
       "      <td>26280</td>\n",
       "      <td>690.0</td>\n",
       "    </tr>\n",
       "    <tr>\n",
       "      <th>4</th>\n",
       "      <td>100300</td>\n",
       "      <td>990.0</td>\n",
       "    </tr>\n",
       "  </tbody>\n",
       "</table>\n",
       "</div>"
      ],
      "text/plain": [
       "   student_id    rev\n",
       "0        1627  990.0\n",
       "1        3185  690.0\n",
       "2       25973  690.0\n",
       "3       26280  690.0\n",
       "4      100300  990.0"
      ]
     },
     "execution_count": 11,
     "metadata": {},
     "output_type": "execute_result"
    }
   ],
   "source": [
    "checks.head()"
   ]
  },
  {
   "cell_type": "code",
   "execution_count": 12,
   "metadata": {},
   "outputs": [
    {
     "data": {
      "text/plain": [
       "(541, 2)"
      ]
     },
     "metadata": {},
     "output_type": "display_data"
    },
    {
     "data": {
      "text/plain": [
       "0"
      ]
     },
     "metadata": {},
     "output_type": "display_data"
    },
    {
     "data": {
      "text/plain": [
       "student_id    0\n",
       "rev           0\n",
       "dtype: int64"
      ]
     },
     "metadata": {},
     "output_type": "display_data"
    }
   ],
   "source": [
    "display(checks.shape, \\\n",
    "        checks.student_id.duplicated().sum(), \\\n",
    "        checks.isna().sum())"
   ]
  },
  {
   "cell_type": "markdown",
   "metadata": {},
   "source": [
    " Пропущенных значений и дубликатов нет. Всего 541 оплата, каждый пользователь совершил одну покупку, повторных покупок нет.\n",
    " \\\n",
    " Проверим все ли пользователи, совершившие оплату заходили на платформу в дни эксперимента."
   ]
  },
  {
   "cell_type": "code",
   "execution_count": 13,
   "metadata": {},
   "outputs": [
    {
     "data": {
      "text/plain": [
       "True     392\n",
       "False    149\n",
       "Name: student_id, dtype: int64"
      ]
     },
     "execution_count": 13,
     "metadata": {},
     "output_type": "execute_result"
    }
   ],
   "source": [
    "checks.student_id.isin(active_studs.student_id).value_counts()"
   ]
  },
  {
   "cell_type": "markdown",
   "metadata": {},
   "source": [
    "Получается, что 149 пользователей совершили оплату, не заходя на платформу. Возможно это подключены автоплатежи, произошло автоматическое списание денег и пользователь не заходил на сайт. Этих пользователей не учитываем т.к. они не могли видеть новую механику оплаты."
   ]
  },
  {
   "cell_type": "markdown",
   "metadata": {},
   "source": [
    "Объединим таблицы, исключив из них пользователей заходивших на сайт, но которым не присвоена группа, а также пользователей оплативших, но при этом не заходивших на платформу в дни эксперимента."
   ]
  },
  {
   "cell_type": "code",
   "execution_count": 14,
   "metadata": {},
   "outputs": [],
   "source": [
    "users = active_studs.merge(groups, on = 'student_id', how = 'left')\\\n",
    "                     .query('grp == grp')\\\n",
    "                     .merge(checks,on = 'student_id', how = 'left')\\\n",
    "                     .fillna({'rev': 0})"
   ]
  },
  {
   "cell_type": "code",
   "execution_count": 15,
   "metadata": {},
   "outputs": [],
   "source": [
    "# добавим столбец, если была покупка - '1', если не было покупки - '0'\n",
    "users['purchase'] = users.rev.apply(lambda x: 1 if x != 0 else 0)"
   ]
  },
  {
   "cell_type": "code",
   "execution_count": 16,
   "metadata": {},
   "outputs": [
    {
     "data": {
      "text/html": [
       "<div>\n",
       "<style scoped>\n",
       "    .dataframe tbody tr th:only-of-type {\n",
       "        vertical-align: middle;\n",
       "    }\n",
       "\n",
       "    .dataframe tbody tr th {\n",
       "        vertical-align: top;\n",
       "    }\n",
       "\n",
       "    .dataframe thead th {\n",
       "        text-align: right;\n",
       "    }\n",
       "</style>\n",
       "<table border=\"1\" class=\"dataframe\">\n",
       "  <thead>\n",
       "    <tr style=\"text-align: right;\">\n",
       "      <th></th>\n",
       "      <th>student_id</th>\n",
       "      <th>grp</th>\n",
       "      <th>rev</th>\n",
       "      <th>purchase</th>\n",
       "    </tr>\n",
       "  </thead>\n",
       "  <tbody>\n",
       "    <tr>\n",
       "      <th>0</th>\n",
       "      <td>581585</td>\n",
       "      <td>A</td>\n",
       "      <td>0.0</td>\n",
       "      <td>0</td>\n",
       "    </tr>\n",
       "    <tr>\n",
       "      <th>1</th>\n",
       "      <td>3276743</td>\n",
       "      <td>B</td>\n",
       "      <td>0.0</td>\n",
       "      <td>0</td>\n",
       "    </tr>\n",
       "    <tr>\n",
       "      <th>2</th>\n",
       "      <td>4238589</td>\n",
       "      <td>A</td>\n",
       "      <td>0.0</td>\n",
       "      <td>0</td>\n",
       "    </tr>\n",
       "    <tr>\n",
       "      <th>3</th>\n",
       "      <td>4475369</td>\n",
       "      <td>B</td>\n",
       "      <td>0.0</td>\n",
       "      <td>0</td>\n",
       "    </tr>\n",
       "    <tr>\n",
       "      <th>4</th>\n",
       "      <td>5481015</td>\n",
       "      <td>B</td>\n",
       "      <td>0.0</td>\n",
       "      <td>0</td>\n",
       "    </tr>\n",
       "  </tbody>\n",
       "</table>\n",
       "</div>"
      ],
      "text/plain": [
       "   student_id grp  rev  purchase\n",
       "0      581585   A  0.0         0\n",
       "1     3276743   B  0.0         0\n",
       "2     4238589   A  0.0         0\n",
       "3     4475369   B  0.0         0\n",
       "4     5481015   B  0.0         0"
      ]
     },
     "execution_count": 16,
     "metadata": {},
     "output_type": "execute_result"
    }
   ],
   "source": [
    "users.head()"
   ]
  },
  {
   "cell_type": "code",
   "execution_count": 17,
   "metadata": {},
   "outputs": [
    {
     "data": {
      "text/plain": [
       "(8328, 4)"
      ]
     },
     "execution_count": 17,
     "metadata": {},
     "output_type": "execute_result"
    }
   ],
   "source": [
    "users.shape"
   ]
  },
  {
   "cell_type": "markdown",
   "metadata": {},
   "source": [
    "Теперь посмотрим, как распределились пользователи по группам"
   ]
  },
  {
   "cell_type": "code",
   "execution_count": 18,
   "metadata": {},
   "outputs": [
    {
     "data": {
      "text/html": [
       "<div>\n",
       "<style scoped>\n",
       "    .dataframe tbody tr th:only-of-type {\n",
       "        vertical-align: middle;\n",
       "    }\n",
       "\n",
       "    .dataframe tbody tr th {\n",
       "        vertical-align: top;\n",
       "    }\n",
       "\n",
       "    .dataframe thead th {\n",
       "        text-align: right;\n",
       "    }\n",
       "</style>\n",
       "<table border=\"1\" class=\"dataframe\">\n",
       "  <thead>\n",
       "    <tr style=\"text-align: right;\">\n",
       "      <th></th>\n",
       "      <th>grp</th>\n",
       "      <th>student_id</th>\n",
       "      <th>rev</th>\n",
       "      <th>purchase</th>\n",
       "    </tr>\n",
       "  </thead>\n",
       "  <tbody>\n",
       "    <tr>\n",
       "      <th>0</th>\n",
       "      <td>A</td>\n",
       "      <td>1535</td>\n",
       "      <td>1535</td>\n",
       "      <td>1535</td>\n",
       "    </tr>\n",
       "    <tr>\n",
       "      <th>1</th>\n",
       "      <td>B</td>\n",
       "      <td>6793</td>\n",
       "      <td>6793</td>\n",
       "      <td>6793</td>\n",
       "    </tr>\n",
       "  </tbody>\n",
       "</table>\n",
       "</div>"
      ],
      "text/plain": [
       "  grp  student_id   rev  purchase\n",
       "0   A        1535  1535      1535\n",
       "1   B        6793  6793      6793"
      ]
     },
     "execution_count": 18,
     "metadata": {},
     "output_type": "execute_result"
    }
   ],
   "source": [
    "users.groupby('grp', as_index = False).count()"
   ]
  },
  {
   "cell_type": "code",
   "execution_count": 19,
   "metadata": {},
   "outputs": [
    {
     "data": {
      "image/png": "[encoded data removed]",
      "text/plain": [
       "<Figure size 648x360 with 1 Axes>"
      ]
     },
     "metadata": {},
     "output_type": "display_data"
    }
   ],
   "source": [
    "ax = sns.countplot(x = 'grp', hue = 'purchase',\n",
    "            data = users)\n",
    "plt.xlabel(\"group\");\n",
    "plt.ylabel(\"Count\");"
   ]
  },
  {
   "cell_type": "code",
   "execution_count": 20,
   "metadata": {},
   "outputs": [],
   "source": [
    "# пользователи, совершмвшие покупку\n",
    "pay_users = users.query('purchase == 1')"
   ]
  },
  {
   "cell_type": "code",
   "execution_count": 21,
   "metadata": {},
   "outputs": [
    {
     "data": {
      "image/png": "[encoded data removed]",
      "text/plain": [
       "<Figure size 648x360 with 1 Axes>"
      ]
     },
     "metadata": {},
     "output_type": "display_data"
    }
   ],
   "source": [
    "ax = sns.histplot(data = pay_users, x = 'rev', hue = 'grp')\n",
    "ax.set_title('Распределение чеков\\n');\n",
    "ax.set_xlabel('Revenue');"
   ]
  },
  {
   "cell_type": "markdown",
   "metadata": {},
   "source": [
    "В тестовой группе видим резкий всплеск покупок на 1900 р. Изменение только механики оплаты вряд ли могло к этому привести. Возможно была в это же время запущена маркетинговая акция, стимулирующая продажи именно по этой цене. Это ставит вопрос о корректности проведения всего эксперимента."
   ]
  },
  {
   "cell_type": "code",
   "execution_count": 22,
   "metadata": {},
   "outputs": [
    {
     "data": {
      "text/html": [
       "<div>\n",
       "<style scoped>\n",
       "    .dataframe tbody tr th:only-of-type {\n",
       "        vertical-align: middle;\n",
       "    }\n",
       "\n",
       "    .dataframe tbody tr th {\n",
       "        vertical-align: top;\n",
       "    }\n",
       "\n",
       "    .dataframe thead th {\n",
       "        text-align: right;\n",
       "    }\n",
       "</style>\n",
       "<table border=\"1\" class=\"dataframe\">\n",
       "  <thead>\n",
       "    <tr style=\"text-align: right;\">\n",
       "      <th></th>\n",
       "      <th>grp</th>\n",
       "      <th>num_users</th>\n",
       "      <th>num_pay_users</th>\n",
       "      <th>rev</th>\n",
       "      <th>ARPU</th>\n",
       "      <th>ARPPU</th>\n",
       "      <th>CR</th>\n",
       "    </tr>\n",
       "  </thead>\n",
       "  <tbody>\n",
       "    <tr>\n",
       "      <th>0</th>\n",
       "      <td>A</td>\n",
       "      <td>1535</td>\n",
       "      <td>78</td>\n",
       "      <td>72820.0000</td>\n",
       "      <td>47.44</td>\n",
       "      <td>933.59</td>\n",
       "      <td>5.08</td>\n",
       "    </tr>\n",
       "    <tr>\n",
       "      <th>1</th>\n",
       "      <td>B</td>\n",
       "      <td>6793</td>\n",
       "      <td>313</td>\n",
       "      <td>393074.0035</td>\n",
       "      <td>57.86</td>\n",
       "      <td>1255.83</td>\n",
       "      <td>4.61</td>\n",
       "    </tr>\n",
       "  </tbody>\n",
       "</table>\n",
       "</div>"
      ],
      "text/plain": [
       "  grp  num_users  num_pay_users          rev   ARPU    ARPPU    CR\n",
       "0   A       1535             78   72820.0000  47.44   933.59  5.08\n",
       "1   B       6793            313  393074.0035  57.86  1255.83  4.61"
      ]
     },
     "execution_count": 22,
     "metadata": {},
     "output_type": "execute_result"
    }
   ],
   "source": [
    "metrics = users.groupby('grp', as_index = False)\\\n",
    "                    .agg({'student_id': 'count', 'purchase': 'sum','rev': 'sum','purchase': 'sum' })\\\n",
    "                    .rename(columns = {'student_id': 'num_users', 'purchase': 'num_pay_users'})\\\n",
    "                    .assign(ARPU = lambda x:round((x.rev / x.num_users),2), \\\n",
    "                            ARPPU = lambda x: round((x.rev / x.num_pay_users),2),\\\n",
    "                            CR = lambda x: round((x.num_pay_users / x.num_users) * 100,2))\n",
    "metrics"
   ]
  },
  {
   "cell_type": "markdown",
   "metadata": {},
   "source": [
    "Главной метрикой считаю конверсию в покупку, т.к. изменение механики оплаты скорее всего направлено на улучшение процесса покупки, таким образом увеличивая ее вероятность.\n",
    "\\\n",
    "Посмотрев на показатель конверсии, видим, что наблюдается снижение показателя в тестовой группе. Проведем статистическую оценку. Конверсия является категориальной величиной (т.к. пользователь либо совершил оплату (1), либо нет (0)), также как и принадлежность к группе А или В. Поэтому для проверки гипотезы выбираю тест хи-квадрат."
   ]
  },
  {
   "cell_type": "code",
   "execution_count": 23,
   "metadata": {},
   "outputs": [
    {
     "data": {
      "text/plain": [
       "0    5.08\n",
       "1    4.61\n",
       "Name: CR, dtype: float64"
      ]
     },
     "execution_count": 23,
     "metadata": {},
     "output_type": "execute_result"
    }
   ],
   "source": [
    "metrics.CR"
   ]
  },
  {
   "cell_type": "markdown",
   "metadata": {},
   "source": [
    " Гипотезы:\n",
    "- Н0 - нет связи между конверсией и группой пользователя.\n",
    "- Н1-связь есть, конверсия зависит от того, к какой группе принадлежит пользователь.\n",
    "\n",
    "Создадим таблицу сопряженности для проведения теста:"
   ]
  },
  {
   "cell_type": "code",
   "execution_count": 24,
   "metadata": {},
   "outputs": [
    {
     "data": {
      "text/html": [
       "<div>\n",
       "<style scoped>\n",
       "    .dataframe tbody tr th:only-of-type {\n",
       "        vertical-align: middle;\n",
       "    }\n",
       "\n",
       "    .dataframe tbody tr th {\n",
       "        vertical-align: top;\n",
       "    }\n",
       "\n",
       "    .dataframe thead th {\n",
       "        text-align: right;\n",
       "    }\n",
       "</style>\n",
       "<table border=\"1\" class=\"dataframe\">\n",
       "  <thead>\n",
       "    <tr style=\"text-align: right;\">\n",
       "      <th>purchase</th>\n",
       "      <th>0</th>\n",
       "      <th>1</th>\n",
       "    </tr>\n",
       "    <tr>\n",
       "      <th>grp</th>\n",
       "      <th></th>\n",
       "      <th></th>\n",
       "    </tr>\n",
       "  </thead>\n",
       "  <tbody>\n",
       "    <tr>\n",
       "      <th>A</th>\n",
       "      <td>1457</td>\n",
       "      <td>78</td>\n",
       "    </tr>\n",
       "    <tr>\n",
       "      <th>B</th>\n",
       "      <td>6480</td>\n",
       "      <td>313</td>\n",
       "    </tr>\n",
       "  </tbody>\n",
       "</table>\n",
       "</div>"
      ],
      "text/plain": [
       "purchase     0    1\n",
       "grp                \n",
       "A         1457   78\n",
       "B         6480  313"
      ]
     },
     "execution_count": 24,
     "metadata": {},
     "output_type": "execute_result"
    }
   ],
   "source": [
    "stat = users.groupby(['purchase', 'grp'], as_index = False)\\\n",
    "                .agg({'student_id': 'count'})\\\n",
    "                .pivot(index = 'purchase', columns = 'grp', values = 'student_id').T\n",
    "stat"
   ]
  },
  {
   "cell_type": "code",
   "execution_count": 25,
   "metadata": {},
   "outputs": [
    {
     "name": "stdout",
     "output_type": "stream",
     "text": [
      "p-value = 0.4280822964525912\n"
     ]
    }
   ],
   "source": [
    "print('p-value =', scipy.stats.chi2_contingency(stat, correction = False)[1])"
   ]
  },
  {
   "cell_type": "markdown",
   "metadata": {},
   "source": [
    "p-value > 0,05, поэтому нет оснований отклонить нулевую гипотезу об отсутствии связи между конверсией и группой пользователя."
   ]
  },
  {
   "cell_type": "markdown",
   "metadata": {},
   "source": [
    "Выводы:\n",
    "\n",
    "- Главной метрикой была выбрана конверсия в покупку, которая уменьшилась в тестовой группе. Проведенный статистический анализ получившихся результатов эксперимента показал, что различие в конверсии между группами не является статистически значимым.\n",
    "- Учитывая подозрительно частую оплату на 1900 в тестовой группе, а также дисбаланс в размере групп, рекомендовано обратить внимание на корректость проведения эксперимента. \n",
    "- После уточнения данных о правильности проведения эксперимента и корректности сплитования, если чеки на 1900 оказались случайны и не были вызваны какой-либо маркетинговой активностью, возможно провести статистический анализ метрики ARPU.\n",
    "- При иимеющихся данных не рекомендовано запускать новую механику оплаты на всех пользователей."
   ]
  },
  {
   "cell_type": "markdown",
   "metadata": {},
   "source": [
    "## Задание 2. SQL\n",
    "\n",
    "2.1 Очень усердные ученики.\n",
    "\n",
    "2.1.1 Условие\n",
    "\n",
    "Образовательные курсы состоят из различных уроков, каждый из которых состоит из нескольких маленьких заданий. Каждое такое маленькое задание называется \"горошиной\".\n",
    "\n",
    "Назовём очень усердным учеником того пользователя, который хотя бы раз за текущий месяц правильно решил 20 горошин.\n",
    "\n",
    "2.1.2 Задача\n",
    "\n",
    "Дана таблица default.peas\n",
    "\n",
    "Необходимо написать оптимальный запрос, который даст информацию о количестве очень усердных студентов.\n",
    "\n",
    "NB! Под усердным студентом мы понимаем студента, который правильно решил 20 задач за текущий месяц."
   ]
  },
  {
   "cell_type": "code",
   "execution_count": 26,
   "metadata": {},
   "outputs": [],
   "source": [
    "connection_default = {'host': 'https://clickhouse.lab.karpov.courses',\n",
    "                      'database': 'default',\n",
    "                      'user': 'student', \n",
    "                      'password': 'dpo_python_2020'\n",
    "                     }"
   ]
  },
  {
   "cell_type": "code",
   "execution_count": 27,
   "metadata": {},
   "outputs": [],
   "source": [
    "q1 = '''\n",
    "SELECT st_id, toDateTime(timest) as timest, correct, subject FROM default.peas\n",
    "'''"
   ]
  },
  {
   "cell_type": "code",
   "execution_count": 28,
   "metadata": {},
   "outputs": [],
   "source": [
    "default_peas = ph.read_clickhouse(query = q1, connection = connection_default)"
   ]
  },
  {
   "cell_type": "code",
   "execution_count": 29,
   "metadata": {},
   "outputs": [
    {
     "data": {
      "text/html": [
       "<div>\n",
       "<style scoped>\n",
       "    .dataframe tbody tr th:only-of-type {\n",
       "        vertical-align: middle;\n",
       "    }\n",
       "\n",
       "    .dataframe tbody tr th {\n",
       "        vertical-align: top;\n",
       "    }\n",
       "\n",
       "    .dataframe thead th {\n",
       "        text-align: right;\n",
       "    }\n",
       "</style>\n",
       "<table border=\"1\" class=\"dataframe\">\n",
       "  <thead>\n",
       "    <tr style=\"text-align: right;\">\n",
       "      <th></th>\n",
       "      <th>st_id</th>\n",
       "      <th>timest</th>\n",
       "      <th>correct</th>\n",
       "      <th>subject</th>\n",
       "    </tr>\n",
       "  </thead>\n",
       "  <tbody>\n",
       "    <tr>\n",
       "      <th>0</th>\n",
       "      <td>100379</td>\n",
       "      <td>2021-10-30 13:32:29</td>\n",
       "      <td>1</td>\n",
       "      <td>Theory of probability</td>\n",
       "    </tr>\n",
       "    <tr>\n",
       "      <th>1</th>\n",
       "      <td>100379</td>\n",
       "      <td>2021-10-30 14:11:19</td>\n",
       "      <td>0</td>\n",
       "      <td>Vizualization</td>\n",
       "    </tr>\n",
       "    <tr>\n",
       "      <th>2</th>\n",
       "      <td>100379</td>\n",
       "      <td>2021-10-30 15:54:22</td>\n",
       "      <td>1</td>\n",
       "      <td>Theory of probability</td>\n",
       "    </tr>\n",
       "    <tr>\n",
       "      <th>3</th>\n",
       "      <td>100379</td>\n",
       "      <td>2021-10-30 16:44:50</td>\n",
       "      <td>1</td>\n",
       "      <td>Vizualization</td>\n",
       "    </tr>\n",
       "    <tr>\n",
       "      <th>4</th>\n",
       "      <td>100379</td>\n",
       "      <td>2021-10-30 17:15:05</td>\n",
       "      <td>1</td>\n",
       "      <td>Theory of probability</td>\n",
       "    </tr>\n",
       "  </tbody>\n",
       "</table>\n",
       "</div>"
      ],
      "text/plain": [
       "    st_id              timest  correct                subject\n",
       "0  100379 2021-10-30 13:32:29        1  Theory of probability\n",
       "1  100379 2021-10-30 14:11:19        0          Vizualization\n",
       "2  100379 2021-10-30 15:54:22        1  Theory of probability\n",
       "3  100379 2021-10-30 16:44:50        1          Vizualization\n",
       "4  100379 2021-10-30 17:15:05        1  Theory of probability"
      ]
     },
     "execution_count": 29,
     "metadata": {},
     "output_type": "execute_result"
    }
   ],
   "source": [
    "default_peas.head()"
   ]
  },
  {
   "cell_type": "code",
   "execution_count": 30,
   "metadata": {},
   "outputs": [],
   "source": [
    "q2 = '''\n",
    "SELECT\n",
    "  count(st_id) as num_students\n",
    "FROM\n",
    "  (\n",
    "    SELECT\n",
    "      st_id,\n",
    "      sum(correct)\n",
    "    FROM\n",
    "      default.peas\n",
    "    group by\n",
    "      st_id\n",
    "    having\n",
    "      sum(correct) >= 20\n",
    "  ) \n",
    "'''\n",
    "num_students = ph.read_clickhouse(query = q2, connection = connection_default)"
   ]
  },
  {
   "cell_type": "code",
   "execution_count": 31,
   "metadata": {},
   "outputs": [
    {
     "data": {
      "text/html": [
       "<div>\n",
       "<style scoped>\n",
       "    .dataframe tbody tr th:only-of-type {\n",
       "        vertical-align: middle;\n",
       "    }\n",
       "\n",
       "    .dataframe tbody tr th {\n",
       "        vertical-align: top;\n",
       "    }\n",
       "\n",
       "    .dataframe thead th {\n",
       "        text-align: right;\n",
       "    }\n",
       "</style>\n",
       "<table border=\"1\" class=\"dataframe\">\n",
       "  <thead>\n",
       "    <tr style=\"text-align: right;\">\n",
       "      <th></th>\n",
       "      <th>num_students</th>\n",
       "    </tr>\n",
       "  </thead>\n",
       "  <tbody>\n",
       "    <tr>\n",
       "      <th>0</th>\n",
       "      <td>136</td>\n",
       "    </tr>\n",
       "  </tbody>\n",
       "</table>\n",
       "</div>"
      ],
      "text/plain": [
       "   num_students\n",
       "0           136"
      ]
     },
     "execution_count": 31,
     "metadata": {},
     "output_type": "execute_result"
    }
   ],
   "source": [
    "num_students"
   ]
  },
  {
   "cell_type": "markdown",
   "metadata": {},
   "source": [
    "2.2 Оптимизация воронки\n",
    "\n",
    "2.2.1 Условие\n",
    "\n",
    "Образовательная платформа предлагает пройти студентам курсы по модели trial: студент может решить бесплатно лишь 30 горошин в день. Для неограниченного количества заданий в определенной дисциплине студенту необходимо приобрести полный доступ. Команда провела эксперимент, где был протестирован новый экран оплаты.\n",
    "\n",
    "2.2.2 Задача\n",
    "\n",
    "Дана таблицы: default.peas (см. выше), default.studs и default.final_project_check\n",
    "\n",
    "Необходимо в одном запросе выгрузить следующую информацию о группах пользователей:\n",
    "\n",
    "    ARPU \n",
    "    ARPAU \n",
    "    CR в покупку \n",
    "    СR активного пользователя в покупку \n",
    "    CR пользователя из активности по математике (subject = ’math’) в покупку курса по математике\n",
    "\n",
    "ARPU считается относительно всех пользователей, попавших в группы.\n",
    "\n",
    "Активным считается пользователь, за все время решивший больше 10 задач правильно в любых дисциплинах.\n",
    "\n",
    "Активным по математике считается пользователь, за все время решивший 2 или больше задач правильно по математике.\n",
    "\n",
    "Все данные находятся в табличном виде в Clickhouse"
   ]
  },
  {
   "cell_type": "code",
   "execution_count": 32,
   "metadata": {},
   "outputs": [],
   "source": [
    "q3 = '''\n",
    "SELECT st_id, toDateTime(timest) as timest, correct, subject FROM default.peas\n",
    "'''"
   ]
  },
  {
   "cell_type": "code",
   "execution_count": 33,
   "metadata": {},
   "outputs": [],
   "source": [
    "default_peas_1 = ph.read_clickhouse(query = q3, connection = connection_default)"
   ]
  },
  {
   "cell_type": "code",
   "execution_count": 34,
   "metadata": {},
   "outputs": [
    {
     "data": {
      "text/html": [
       "<div>\n",
       "<style scoped>\n",
       "    .dataframe tbody tr th:only-of-type {\n",
       "        vertical-align: middle;\n",
       "    }\n",
       "\n",
       "    .dataframe tbody tr th {\n",
       "        vertical-align: top;\n",
       "    }\n",
       "\n",
       "    .dataframe thead th {\n",
       "        text-align: right;\n",
       "    }\n",
       "</style>\n",
       "<table border=\"1\" class=\"dataframe\">\n",
       "  <thead>\n",
       "    <tr style=\"text-align: right;\">\n",
       "      <th></th>\n",
       "      <th>st_id</th>\n",
       "      <th>timest</th>\n",
       "      <th>correct</th>\n",
       "      <th>subject</th>\n",
       "    </tr>\n",
       "  </thead>\n",
       "  <tbody>\n",
       "    <tr>\n",
       "      <th>0</th>\n",
       "      <td>100379</td>\n",
       "      <td>2021-10-30 13:32:29</td>\n",
       "      <td>1</td>\n",
       "      <td>Theory of probability</td>\n",
       "    </tr>\n",
       "    <tr>\n",
       "      <th>1</th>\n",
       "      <td>100379</td>\n",
       "      <td>2021-10-30 14:11:19</td>\n",
       "      <td>0</td>\n",
       "      <td>Vizualization</td>\n",
       "    </tr>\n",
       "    <tr>\n",
       "      <th>2</th>\n",
       "      <td>100379</td>\n",
       "      <td>2021-10-30 15:54:22</td>\n",
       "      <td>1</td>\n",
       "      <td>Theory of probability</td>\n",
       "    </tr>\n",
       "    <tr>\n",
       "      <th>3</th>\n",
       "      <td>100379</td>\n",
       "      <td>2021-10-30 16:44:50</td>\n",
       "      <td>1</td>\n",
       "      <td>Vizualization</td>\n",
       "    </tr>\n",
       "    <tr>\n",
       "      <th>4</th>\n",
       "      <td>100379</td>\n",
       "      <td>2021-10-30 17:15:05</td>\n",
       "      <td>1</td>\n",
       "      <td>Theory of probability</td>\n",
       "    </tr>\n",
       "  </tbody>\n",
       "</table>\n",
       "</div>"
      ],
      "text/plain": [
       "    st_id              timest  correct                subject\n",
       "0  100379 2021-10-30 13:32:29        1  Theory of probability\n",
       "1  100379 2021-10-30 14:11:19        0          Vizualization\n",
       "2  100379 2021-10-30 15:54:22        1  Theory of probability\n",
       "3  100379 2021-10-30 16:44:50        1          Vizualization\n",
       "4  100379 2021-10-30 17:15:05        1  Theory of probability"
      ]
     },
     "execution_count": 34,
     "metadata": {},
     "output_type": "execute_result"
    }
   ],
   "source": [
    "default_peas_1.head()"
   ]
  },
  {
   "cell_type": "code",
   "execution_count": 35,
   "metadata": {},
   "outputs": [],
   "source": [
    "q4 = '''\n",
    "SELECT * FROM default.studs\n",
    "'''"
   ]
  },
  {
   "cell_type": "code",
   "execution_count": 36,
   "metadata": {},
   "outputs": [],
   "source": [
    "default_studs = ph.read_clickhouse(query = q4, connection = connection_default)"
   ]
  },
  {
   "cell_type": "code",
   "execution_count": 37,
   "metadata": {},
   "outputs": [
    {
     "data": {
      "text/html": [
       "<div>\n",
       "<style scoped>\n",
       "    .dataframe tbody tr th:only-of-type {\n",
       "        vertical-align: middle;\n",
       "    }\n",
       "\n",
       "    .dataframe tbody tr th {\n",
       "        vertical-align: top;\n",
       "    }\n",
       "\n",
       "    .dataframe thead th {\n",
       "        text-align: right;\n",
       "    }\n",
       "</style>\n",
       "<table border=\"1\" class=\"dataframe\">\n",
       "  <thead>\n",
       "    <tr style=\"text-align: right;\">\n",
       "      <th></th>\n",
       "      <th>st_id</th>\n",
       "      <th>test_grp</th>\n",
       "    </tr>\n",
       "  </thead>\n",
       "  <tbody>\n",
       "    <tr>\n",
       "      <th>0</th>\n",
       "      <td>100379</td>\n",
       "      <td>pilot</td>\n",
       "    </tr>\n",
       "    <tr>\n",
       "      <th>1</th>\n",
       "      <td>101432</td>\n",
       "      <td>control</td>\n",
       "    </tr>\n",
       "    <tr>\n",
       "      <th>2</th>\n",
       "      <td>104818</td>\n",
       "      <td>pilot</td>\n",
       "    </tr>\n",
       "    <tr>\n",
       "      <th>3</th>\n",
       "      <td>104885</td>\n",
       "      <td>pilot</td>\n",
       "    </tr>\n",
       "    <tr>\n",
       "      <th>4</th>\n",
       "      <td>104966</td>\n",
       "      <td>pilot</td>\n",
       "    </tr>\n",
       "  </tbody>\n",
       "</table>\n",
       "</div>"
      ],
      "text/plain": [
       "    st_id test_grp\n",
       "0  100379    pilot\n",
       "1  101432  control\n",
       "2  104818    pilot\n",
       "3  104885    pilot\n",
       "4  104966    pilot"
      ]
     },
     "execution_count": 37,
     "metadata": {},
     "output_type": "execute_result"
    }
   ],
   "source": [
    "default_studs.head()"
   ]
  },
  {
   "cell_type": "code",
   "execution_count": 38,
   "metadata": {},
   "outputs": [],
   "source": [
    "q5 = '''\n",
    "SELECT st_id, toDateTime(sale_time) as saletime, money, subject FROM default.final_project_check\n",
    "'''"
   ]
  },
  {
   "cell_type": "code",
   "execution_count": 39,
   "metadata": {},
   "outputs": [],
   "source": [
    "default_final_project_check = ph.read_clickhouse(query = q5, connection = connection_default)"
   ]
  },
  {
   "cell_type": "code",
   "execution_count": 40,
   "metadata": {},
   "outputs": [
    {
     "data": {
      "text/html": [
       "<div>\n",
       "<style scoped>\n",
       "    .dataframe tbody tr th:only-of-type {\n",
       "        vertical-align: middle;\n",
       "    }\n",
       "\n",
       "    .dataframe tbody tr th {\n",
       "        vertical-align: top;\n",
       "    }\n",
       "\n",
       "    .dataframe thead th {\n",
       "        text-align: right;\n",
       "    }\n",
       "</style>\n",
       "<table border=\"1\" class=\"dataframe\">\n",
       "  <thead>\n",
       "    <tr style=\"text-align: right;\">\n",
       "      <th></th>\n",
       "      <th>st_id</th>\n",
       "      <th>saletime</th>\n",
       "      <th>money</th>\n",
       "      <th>subject</th>\n",
       "    </tr>\n",
       "  </thead>\n",
       "  <tbody>\n",
       "    <tr>\n",
       "      <th>0</th>\n",
       "      <td>101432</td>\n",
       "      <td>2021-10-31 04:44:32</td>\n",
       "      <td>85000</td>\n",
       "      <td>Math</td>\n",
       "    </tr>\n",
       "    <tr>\n",
       "      <th>1</th>\n",
       "      <td>101432</td>\n",
       "      <td>2021-10-31 12:43:50</td>\n",
       "      <td>65000</td>\n",
       "      <td>Vizualization</td>\n",
       "    </tr>\n",
       "    <tr>\n",
       "      <th>2</th>\n",
       "      <td>104885</td>\n",
       "      <td>2021-10-30 17:05:55</td>\n",
       "      <td>65000</td>\n",
       "      <td>Vizualization</td>\n",
       "    </tr>\n",
       "    <tr>\n",
       "      <th>3</th>\n",
       "      <td>104885</td>\n",
       "      <td>2021-10-30 22:49:33</td>\n",
       "      <td>75000</td>\n",
       "      <td>Statistics</td>\n",
       "    </tr>\n",
       "    <tr>\n",
       "      <th>4</th>\n",
       "      <td>106464</td>\n",
       "      <td>2021-10-31 13:17:13</td>\n",
       "      <td>85000</td>\n",
       "      <td>Math</td>\n",
       "    </tr>\n",
       "  </tbody>\n",
       "</table>\n",
       "</div>"
      ],
      "text/plain": [
       "    st_id            saletime  money        subject\n",
       "0  101432 2021-10-31 04:44:32  85000           Math\n",
       "1  101432 2021-10-31 12:43:50  65000  Vizualization\n",
       "2  104885 2021-10-30 17:05:55  65000  Vizualization\n",
       "3  104885 2021-10-30 22:49:33  75000     Statistics\n",
       "4  106464 2021-10-31 13:17:13  85000           Math"
      ]
     },
     "execution_count": 40,
     "metadata": {},
     "output_type": "execute_result"
    }
   ],
   "source": [
    "default_final_project_check.head()"
   ]
  },
  {
   "cell_type": "code",
   "execution_count": 41,
   "metadata": {},
   "outputs": [],
   "source": [
    "q6 = '''\n",
    "WITH t_users AS (SELECT studs.st_id as users, studs.test_grp, sum(check.money) as money FROM studs \n",
    "                 LEFT JOIN (SELECT st_id, sum(money) AS money FROM final_project_check GROUP BY st_id) AS check\n",
    "                 ON studs.st_id=check.st_id GROUP BY st_id,test_grp),\n",
    "    t_active AS (SELECT st_id, sum(correct) num_task FROM peas GROUP BY st_id HAVING sum(correct)>10),\n",
    "    t_math AS   (SELECT st_id, math_money, math_task FROM (SELECT st_id, sum(correct) math_task FROM peas \n",
    "                 WHERE subject='Math' GROUP BY st_id HAVING sum(correct) >=2) AS act_math\n",
    "                 LEFT JOIN (SELECT st_id, money as math_money FROM final_project_check WHERE subject='Math') as math_buy \n",
    "                 ON act_math.st_id=math_buy.st_id)\n",
    "\n",
    "SELECT\n",
    "  test_grp,\n",
    "  ROUND(avg(money), 2) AS ARPU,\n",
    "  ROUND(\n",
    "    sumIf(money, num_task > 0) / countIf(num_task > 0),\n",
    "    2\n",
    "  ) AS ARPAU,\n",
    "  ROUND(countIf(money > 0) / count(users) * 100, 2) AS CR,\n",
    "  ROUND(\n",
    "    countIf(\n",
    "      money > 0\n",
    "      and num_task > 10\n",
    "    ) / countIf(num_task > 0) * 100,\n",
    "    2\n",
    "  ) AS CR_A,\n",
    "  ROUND(\n",
    "    countIf(math_money > 0) / countIf(math_task >= 2) * 100,\n",
    "    2\n",
    "  ) AS CR_math\n",
    "FROM\n",
    "  t_users FULL\n",
    "  JOIN t_active ON t_users.users = t_active.st_id FULL\n",
    "  JOIN t_math ON t_users.users = t_math.st_id\n",
    "GROUP BY\n",
    "  test_grp\n",
    "    '''\n",
    "metrics = ph.read_clickhouse(query = q6, connection = connection_default)"
   ]
  },
  {
   "cell_type": "code",
   "execution_count": 42,
   "metadata": {},
   "outputs": [
    {
     "data": {
      "text/html": [
       "<div>\n",
       "<style scoped>\n",
       "    .dataframe tbody tr th:only-of-type {\n",
       "        vertical-align: middle;\n",
       "    }\n",
       "\n",
       "    .dataframe tbody tr th {\n",
       "        vertical-align: top;\n",
       "    }\n",
       "\n",
       "    .dataframe thead th {\n",
       "        text-align: right;\n",
       "    }\n",
       "</style>\n",
       "<table border=\"1\" class=\"dataframe\">\n",
       "  <thead>\n",
       "    <tr style=\"text-align: right;\">\n",
       "      <th></th>\n",
       "      <th>test_grp</th>\n",
       "      <th>ARPU</th>\n",
       "      <th>ARPAU</th>\n",
       "      <th>CR</th>\n",
       "      <th>CR_A</th>\n",
       "      <th>CR_math</th>\n",
       "    </tr>\n",
       "  </thead>\n",
       "  <tbody>\n",
       "    <tr>\n",
       "      <th>0</th>\n",
       "      <td>control</td>\n",
       "      <td>4540.98</td>\n",
       "      <td>10393.70</td>\n",
       "      <td>4.92</td>\n",
       "      <td>11.02</td>\n",
       "      <td>6.12</td>\n",
       "    </tr>\n",
       "    <tr>\n",
       "      <th>1</th>\n",
       "      <td>pilot</td>\n",
       "      <td>11508.47</td>\n",
       "      <td>29739.58</td>\n",
       "      <td>10.85</td>\n",
       "      <td>26.04</td>\n",
       "      <td>9.52</td>\n",
       "    </tr>\n",
       "  </tbody>\n",
       "</table>\n",
       "</div>"
      ],
      "text/plain": [
       "  test_grp      ARPU     ARPAU     CR   CR_A  CR_math\n",
       "0  control   4540.98  10393.70   4.92  11.02     6.12\n",
       "1    pilot  11508.47  29739.58  10.85  26.04     9.52"
      ]
     },
     "execution_count": 42,
     "metadata": {},
     "output_type": "execute_result"
    }
   ],
   "source": [
    "metrics"
   ]
  },
  {
   "cell_type": "markdown",
   "metadata": {},
   "source": [
    "## Задание 3. Python\n",
    "\n",
    "3.1 Задача\n",
    "\n",
    "1) Реализуйте функцию, которая будет автоматически подгружать информацию из дополнительного файла groups_add.csv (заголовки могут отличаться) и на основании дополнительных параметров пересчитывать метрики.\n",
    "\\\n",
    "2) Реализуйте функцию, которая будет строить графики по получаемым метрикам."
   ]
  },
  {
   "cell_type": "markdown",
   "metadata": {},
   "source": [
    "### Первая функция"
   ]
  },
  {
   "cell_type": "code",
   "execution_count": 43,
   "metadata": {},
   "outputs": [],
   "source": [
    "def metrics_update(groups, group_add, active_studs, checks):\n",
    "    group_add = pd.read_csv(r'Проект_2_group_add.csv', sep = ',')\n",
    "    \n",
    "    group_add.rename(columns = {group_add.columns[0]: 'student_id'}, inplace = True)\n",
    "    groups.rename(columns = {groups.columns[0]: 'student_id'}, inplace = True)\n",
    "    # Соберем один датафрейм\n",
    "    groups = groups.append(group_add, ignore_index = True)\n",
    "    \n",
    "    users = active_studs.merge(groups, on = 'student_id', how = 'left')\\\n",
    "                             .query('grp == grp')\\\n",
    "                             .merge(checks,on = 'student_id', how = 'left')\\\n",
    "                             .fillna({'rev': 0})\n",
    "    users['purchase'] = users.rev.apply(lambda x: 1 if x != 0 else 0)\n",
    "    \n",
    "    metrics = users.groupby('grp', as_index = False)\\\n",
    "                    .agg({'student_id': 'count', 'purchase': 'sum', 'rev': 'sum', 'purchase': 'sum' })\\\n",
    "                    .rename(columns = {'student_id': 'num_users', 'purchase': 'num_pay_users'})\\\n",
    "                    .assign(ARPU = lambda x:round((x.rev / x.num_users), 2), \\\n",
    "                            ARPPU = lambda x: round((x.rev / x.num_pay_users), 2), \\\n",
    "                            CR = lambda x: round((x.num_pay_users / x.num_users) * 100, 2))\n",
    "    return(metrics)"
   ]
  },
  {
   "cell_type": "code",
   "execution_count": 44,
   "metadata": {},
   "outputs": [
    {
     "data": {
      "text/html": [
       "<div>\n",
       "<style scoped>\n",
       "    .dataframe tbody tr th:only-of-type {\n",
       "        vertical-align: middle;\n",
       "    }\n",
       "\n",
       "    .dataframe tbody tr th {\n",
       "        vertical-align: top;\n",
       "    }\n",
       "\n",
       "    .dataframe thead th {\n",
       "        text-align: right;\n",
       "    }\n",
       "</style>\n",
       "<table border=\"1\" class=\"dataframe\">\n",
       "  <thead>\n",
       "    <tr style=\"text-align: right;\">\n",
       "      <th></th>\n",
       "      <th>grp</th>\n",
       "      <th>num_users</th>\n",
       "      <th>num_pay_users</th>\n",
       "      <th>rev</th>\n",
       "      <th>ARPU</th>\n",
       "      <th>ARPPU</th>\n",
       "      <th>CR</th>\n",
       "    </tr>\n",
       "  </thead>\n",
       "  <tbody>\n",
       "    <tr>\n",
       "      <th>0</th>\n",
       "      <td>A</td>\n",
       "      <td>1538</td>\n",
       "      <td>78</td>\n",
       "      <td>72820.0000</td>\n",
       "      <td>47.35</td>\n",
       "      <td>933.59</td>\n",
       "      <td>5.07</td>\n",
       "    </tr>\n",
       "    <tr>\n",
       "      <th>1</th>\n",
       "      <td>B</td>\n",
       "      <td>6803</td>\n",
       "      <td>314</td>\n",
       "      <td>394974.0035</td>\n",
       "      <td>58.06</td>\n",
       "      <td>1257.88</td>\n",
       "      <td>4.62</td>\n",
       "    </tr>\n",
       "  </tbody>\n",
       "</table>\n",
       "</div>"
      ],
      "text/plain": [
       "  grp  num_users  num_pay_users          rev   ARPU    ARPPU    CR\n",
       "0   A       1538             78   72820.0000  47.35   933.59  5.07\n",
       "1   B       6803            314  394974.0035  58.06  1257.88  4.62"
      ]
     },
     "execution_count": 44,
     "metadata": {},
     "output_type": "execute_result"
    }
   ],
   "source": [
    "new_metrics = metrics_update(groups, group_add, active_studs, checks)\n",
    "new_metrics "
   ]
  },
  {
   "cell_type": "markdown",
   "metadata": {},
   "source": [
    "### Вторая функция"
   ]
  },
  {
   "cell_type": "code",
   "execution_count": 45,
   "metadata": {},
   "outputs": [],
   "source": [
    "def draw_plots(df_metrics):\n",
    "    \n",
    "    sns.set_theme(style = \"whitegrid\")\n",
    "    fig, axs = plt.subplots(ncols = 3, figsize = (20, 6))\n",
    "    \n",
    "    sns.barplot(x = \"grp\", y = \"CR\", data = new_metrics, ax = axs[0]).set_title('CR')\n",
    "    sns.barplot(x = \"grp\", y = \"ARPU\", data = new_metrics, ax = axs[1]).set_title('ARPU')\n",
    "    sns.barplot(x = \"grp\", y = \"ARPPU\", data = new_metrics, ax = axs[2]).set_title('ARPPU')"
   ]
  },
  {
   "cell_type": "code",
   "execution_count": 46,
   "metadata": {},
   "outputs": [
    {
     "data": {
      "image/png": "[encoded data removed]",
      "text/plain": [
       "<Figure size 1440x432 with 3 Axes>"
      ]
     },
     "metadata": {},
     "output_type": "display_data"
    }
   ],
   "source": [
    "draw_plots(new_metrics)"
   ]
  }
 ],
 "metadata": {
  "kernelspec": {
   "display_name": "Python 3",
   "language": "python",
   "name": "python3"
  },
  "language_info": {
   "codemirror_mode": {
    "name": "ipython",
    "version": 3
   },
   "file_extension": ".py",
   "mimetype": "text/x-python",
   "name": "python",
   "nbconvert_exporter": "python",
   "pygments_lexer": "ipython3",
   "version": "3.7.3"
  }
 },
 "nbformat": 4,
 "nbformat_minor": 4
}
