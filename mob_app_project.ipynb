{
 "cells": [
  {
   "cell_type": "markdown",
   "metadata": {},
   "source": [
    "## Проект: вариант 1\n",
    "\n",
    "Представьте, что вы работаете в компании, которая разрабатывает мобильные игры. К вам пришел менеджер с рядом задач по исследованию нескольких аспектов мобильного приложения:\n",
    "\n",
    "    1. В первую очередь, его интересует показатель retention. Напишите функцию для его подсчета.\n",
    "    2. Помимо этого, в компании провели A/B тестирование наборов акционных предложений. На основе имеющихся данных \n",
    "    определите, какой набор можно считать лучшим и на основе каких метрик стоит принять правильное решение.\n",
    "    3. Предложите метрики для оценки результатов последнего прошедшего тематического события в игре."
   ]
  },
  {
   "cell_type": "markdown",
   "metadata": {},
   "source": [
    "## Задание 1\n",
    "\n",
    "Retention – один из самых важных показателей в компании. Ваша задача – написать функцию, которая будет считать retention игроков (по дням от даты регистрации игрока). "
   ]
  },
  {
   "cell_type": "code",
   "execution_count": 1,
   "metadata": {},
   "outputs": [],
   "source": [
    "import pandas as pd\n",
    "import numpy as np\n",
    "\n",
    "import seaborn as sns\n",
    "import matplotlib.pyplot as plt\n",
    "import matplotlib.colors as mcolors\n",
    "\n",
    "from datetime import timedelta\n",
    "\n",
    "import warnings\n",
    "warnings.filterwarnings(\"ignore\")\n",
    "\n",
    "from IPython.core.interactiveshell import InteractiveShell\n",
    "InteractiveShell.ast_node_interactivity = \"all\""
   ]
  },
  {
   "cell_type": "markdown",
   "metadata": {},
   "source": [
    "Приступим.\n",
    "Первым делом подгрузим имеющиемся данные, посмотрим описательные характеристики, проведем предобработку, проверим, присутствуют ли пропущенные значения в данных, поменяем типы данных, если это необходимо."
   ]
  },
  {
   "cell_type": "code",
   "execution_count": 2,
   "metadata": {},
   "outputs": [],
   "source": [
    "reg = pd.read_csv(r'shared/problem1-reg_data.csv', sep = ';')\n",
    "auth = pd.read_csv(r'shared/problem1-auth_data.csv', sep = ';')"
   ]
  },
  {
   "cell_type": "code",
   "execution_count": 3,
   "metadata": {},
   "outputs": [
    {
     "data": {
      "text/html": [
       "<div>\n",
       "<style scoped>\n",
       "    .dataframe tbody tr th:only-of-type {\n",
       "        vertical-align: middle;\n",
       "    }\n",
       "\n",
       "    .dataframe tbody tr th {\n",
       "        vertical-align: top;\n",
       "    }\n",
       "\n",
       "    .dataframe thead th {\n",
       "        text-align: right;\n",
       "    }\n",
       "</style>\n",
       "<table border=\"1\" class=\"dataframe\">\n",
       "  <thead>\n",
       "    <tr style=\"text-align: right;\">\n",
       "      <th></th>\n",
       "      <th>reg_ts</th>\n",
       "      <th>uid</th>\n",
       "    </tr>\n",
       "  </thead>\n",
       "  <tbody>\n",
       "    <tr>\n",
       "      <th>0</th>\n",
       "      <td>911382223</td>\n",
       "      <td>1</td>\n",
       "    </tr>\n",
       "    <tr>\n",
       "      <th>1</th>\n",
       "      <td>932683089</td>\n",
       "      <td>2</td>\n",
       "    </tr>\n",
       "    <tr>\n",
       "      <th>2</th>\n",
       "      <td>947802447</td>\n",
       "      <td>3</td>\n",
       "    </tr>\n",
       "    <tr>\n",
       "      <th>3</th>\n",
       "      <td>959523541</td>\n",
       "      <td>4</td>\n",
       "    </tr>\n",
       "    <tr>\n",
       "      <th>4</th>\n",
       "      <td>969103313</td>\n",
       "      <td>5</td>\n",
       "    </tr>\n",
       "  </tbody>\n",
       "</table>\n",
       "</div>"
      ],
      "text/plain": [
       "      reg_ts  uid\n",
       "0  911382223    1\n",
       "1  932683089    2\n",
       "2  947802447    3\n",
       "3  959523541    4\n",
       "4  969103313    5"
      ]
     },
     "execution_count": 3,
     "metadata": {},
     "output_type": "execute_result"
    },
    {
     "name": "stdout",
     "output_type": "stream",
     "text": [
      "--------------------------------------------------------------\n",
      "<class 'pandas.core.frame.DataFrame'>\n",
      "RangeIndex: 1000000 entries, 0 to 999999\n",
      "Data columns (total 2 columns):\n",
      " #   Column  Non-Null Count    Dtype\n",
      "---  ------  --------------    -----\n",
      " 0   reg_ts  1000000 non-null  int64\n",
      " 1   uid     1000000 non-null  int64\n",
      "dtypes: int64(2)\n",
      "memory usage: 15.3 MB\n",
      "--------------------------------------------------------------\n",
      "--------------------------------------------------------------\n",
      "<class 'pandas.core.frame.DataFrame'>\n",
      "RangeIndex: 1000000 entries, 0 to 999999\n",
      "Data columns (total 2 columns):\n",
      " #   Column  Non-Null Count    Dtype         \n",
      "---  ------  --------------    -----         \n",
      " 0   reg_ts  1000000 non-null  datetime64[ns]\n",
      " 1   uid     1000000 non-null  int64         \n",
      "dtypes: datetime64[ns](1), int64(1)\n",
      "memory usage: 15.3 MB\n",
      "--------------------------------------------------------------\n"
     ]
    },
    {
     "data": {
      "text/plain": [
       "count                 1000000\n",
       "unique                   5111\n",
       "top       2020-09-23 00:00:00\n",
       "freq                     1643\n",
       "first     1998-11-18 00:00:00\n",
       "last      2020-09-24 00:00:00\n",
       "Name: reg_ts, dtype: object"
      ]
     },
     "execution_count": 3,
     "metadata": {},
     "output_type": "execute_result"
    },
    {
     "name": "stdout",
     "output_type": "stream",
     "text": [
      "--------------------------------------------------------------\n"
     ]
    },
    {
     "data": {
      "text/plain": [
       "reg_ts    0\n",
       "uid       0\n",
       "dtype: int64"
      ]
     },
     "execution_count": 3,
     "metadata": {},
     "output_type": "execute_result"
    },
    {
     "name": "stdout",
     "output_type": "stream",
     "text": [
      "--------------------------------------------------------------\n"
     ]
    },
    {
     "data": {
      "text/plain": [
       "0"
      ]
     },
     "execution_count": 3,
     "metadata": {},
     "output_type": "execute_result"
    }
   ],
   "source": [
    "reg.head()\n",
    "print('--------------------------------------------------------------')\n",
    "reg.info()\n",
    "print('--------------------------------------------------------------')\n",
    "reg['reg_ts'] = pd.to_datetime(reg['reg_ts'], unit = 's').dt.round('d')\n",
    "print('--------------------------------------------------------------')\n",
    "reg.info()\n",
    "print('--------------------------------------------------------------')\n",
    "reg.reg_ts.describe()\n",
    "print('--------------------------------------------------------------')\n",
    "reg.isnull().sum()\n",
    "print('--------------------------------------------------------------')\n",
    "reg.uid.duplicated().sum()"
   ]
  },
  {
   "cell_type": "code",
   "execution_count": 4,
   "metadata": {},
   "outputs": [
    {
     "data": {
      "text/html": [
       "<div>\n",
       "<style scoped>\n",
       "    .dataframe tbody tr th:only-of-type {\n",
       "        vertical-align: middle;\n",
       "    }\n",
       "\n",
       "    .dataframe tbody tr th {\n",
       "        vertical-align: top;\n",
       "    }\n",
       "\n",
       "    .dataframe thead th {\n",
       "        text-align: right;\n",
       "    }\n",
       "</style>\n",
       "<table border=\"1\" class=\"dataframe\">\n",
       "  <thead>\n",
       "    <tr style=\"text-align: right;\">\n",
       "      <th></th>\n",
       "      <th>auth_ts</th>\n",
       "      <th>uid</th>\n",
       "    </tr>\n",
       "  </thead>\n",
       "  <tbody>\n",
       "    <tr>\n",
       "      <th>0</th>\n",
       "      <td>911382223</td>\n",
       "      <td>1</td>\n",
       "    </tr>\n",
       "    <tr>\n",
       "      <th>1</th>\n",
       "      <td>932683089</td>\n",
       "      <td>2</td>\n",
       "    </tr>\n",
       "    <tr>\n",
       "      <th>2</th>\n",
       "      <td>932921206</td>\n",
       "      <td>2</td>\n",
       "    </tr>\n",
       "    <tr>\n",
       "      <th>3</th>\n",
       "      <td>933393015</td>\n",
       "      <td>2</td>\n",
       "    </tr>\n",
       "    <tr>\n",
       "      <th>4</th>\n",
       "      <td>933875379</td>\n",
       "      <td>2</td>\n",
       "    </tr>\n",
       "  </tbody>\n",
       "</table>\n",
       "</div>"
      ],
      "text/plain": [
       "     auth_ts  uid\n",
       "0  911382223    1\n",
       "1  932683089    2\n",
       "2  932921206    2\n",
       "3  933393015    2\n",
       "4  933875379    2"
      ]
     },
     "execution_count": 4,
     "metadata": {},
     "output_type": "execute_result"
    },
    {
     "name": "stdout",
     "output_type": "stream",
     "text": [
      "--------------------------------------------------------------\n",
      "<class 'pandas.core.frame.DataFrame'>\n",
      "RangeIndex: 9601013 entries, 0 to 9601012\n",
      "Data columns (total 2 columns):\n",
      " #   Column   Dtype\n",
      "---  ------   -----\n",
      " 0   auth_ts  int64\n",
      " 1   uid      int64\n",
      "dtypes: int64(2)\n",
      "memory usage: 146.5 MB\n",
      "--------------------------------------------------------------\n",
      "--------------------------------------------------------------\n",
      "<class 'pandas.core.frame.DataFrame'>\n",
      "RangeIndex: 9601013 entries, 0 to 9601012\n",
      "Data columns (total 2 columns):\n",
      " #   Column   Dtype         \n",
      "---  ------   -----         \n",
      " 0   auth_ts  datetime64[ns]\n",
      " 1   uid      int64         \n",
      "dtypes: datetime64[ns](1), int64(1)\n",
      "memory usage: 146.5 MB\n",
      "--------------------------------------------------------------\n"
     ]
    },
    {
     "data": {
      "text/plain": [
       "count                 9601013\n",
       "unique                   6168\n",
       "top       2020-09-21 00:00:00\n",
       "freq                    16037\n",
       "first     1998-11-18 00:00:00\n",
       "last      2020-09-24 00:00:00\n",
       "Name: auth_ts, dtype: object"
      ]
     },
     "execution_count": 4,
     "metadata": {},
     "output_type": "execute_result"
    },
    {
     "name": "stdout",
     "output_type": "stream",
     "text": [
      "--------------------------------------------------------------\n"
     ]
    },
    {
     "data": {
      "text/plain": [
       "auth_ts    0\n",
       "uid        0\n",
       "dtype: int64"
      ]
     },
     "execution_count": 4,
     "metadata": {},
     "output_type": "execute_result"
    },
    {
     "name": "stdout",
     "output_type": "stream",
     "text": [
      "--------------------------------------------------------------\n"
     ]
    },
    {
     "data": {
      "text/plain": [
       "0"
      ]
     },
     "execution_count": 4,
     "metadata": {},
     "output_type": "execute_result"
    }
   ],
   "source": [
    "auth.head()\n",
    "print('--------------------------------------------------------------')\n",
    "auth.info()\n",
    "print('--------------------------------------------------------------')\n",
    "auth['auth_ts'] = pd.to_datetime(auth['auth_ts'], unit = 's').dt.round('d')\n",
    "print('--------------------------------------------------------------')\n",
    "auth.info()\n",
    "print('--------------------------------------------------------------')\n",
    "auth.auth_ts.describe()\n",
    "print('--------------------------------------------------------------')\n",
    "auth.isnull().sum()\n",
    "print('--------------------------------------------------------------')\n",
    "auth.duplicated().sum()"
   ]
  },
  {
   "cell_type": "markdown",
   "metadata": {},
   "source": [
    "В ходе предварительного анализа выявлено, что нулевых значений и дубликатов в данных нет, данные приведены к нужным типам.\n",
    "\\\n",
    "Временной интервал предоставленных данных -- 18.11.1998 - 24.09.2020."
   ]
  },
  {
   "cell_type": "markdown",
   "metadata": {},
   "source": [
    "Займемся написанием функции для подсчета retention игроков по дням в течении заданного временного промежутка.\n",
    "\\\n",
    "Также в функции пропишем визуализацию хитмэпом для наглядности представления результатов."
   ]
  },
  {
   "cell_type": "code",
   "execution_count": 5,
   "metadata": {},
   "outputs": [],
   "source": [
    "def retention_count(registrations, autorizations, start_date, interval):\n",
    "    '''\n",
    "    Функция, вычисляющая показатель retention в течении заданного временного промежутка\n",
    "    # registrations - файл с данными о регистрации пользователей\n",
    "    # autorizations - файл с данными об авторизации пользователей\n",
    "    # start_date  - дата первого дня для расчета retention\n",
    "    # interval - промежуток, для которого считаем retention\n",
    "    \n",
    "    '''\n",
    "    \n",
    "    start_date = pd.to_datetime(start_date).strftime('%Y-%m-%d')\n",
    "    finish_date = (pd.to_datetime(start_date) + pd.Timedelta(days = interval)).strftime('%Y-%m-%d')\n",
    "    \n",
    "    # Мерджим входные файлы по номеру пользователя\n",
    "    reg_auth = autorizations.merge(registrations, on = 'uid')\n",
    "    \n",
    "    # Создадим колонку \"lifetime\" для удобства, которая будет нам показывать, \n",
    "    # сколько для каждого из дней покупок было совершено в следующий день\n",
    "    reg_auth['lifetime'] = (reg_auth['auth_ts'] - reg_auth['reg_ts']).dt.days\n",
    "    \n",
    "    # Оставляем данные только с необходимым для анализа интервалом\n",
    "    period = reg_auth[(reg_auth['reg_ts'] >= start_date) \n",
    "                      & (reg_auth['auth_ts'] <= finish_date) \n",
    "                      & (reg_auth['lifetime'] <= interval)]\n",
    "    \n",
    "    # Группируем данные по дате регистрации и дням с момента регистрации, считаем количество уникальных пользователей\n",
    "    cohort = period.groupby(['reg_ts', 'lifetime'])['uid'].apply(pd.Series.nunique).reset_index(drop = False)\n",
    "    \n",
    "    # Считаем retention и выводим его в отдельную таблицу \n",
    "    # также добавим столбец с абсолютными значениями числа пользователей в когороте\n",
    "    retention = cohort.pivot_table(index = 'reg_ts', columns = 'lifetime', values = 'uid')\n",
    "    cohort_size = retention.iloc[:, 0]\n",
    "    retention_matrix  = retention.divide(cohort_size, axis = 0).round(3)\n",
    "    # Визуализируем данные\n",
    "    with sns.axes_style(\"white\"):\n",
    "        fig, ax = plt.subplots(1, 2, figsize = (25, 10), sharey = True, gridspec_kw = {'width_ratios': [1, 11]})\n",
    "        \n",
    "        # retention matrix\n",
    "        ax[1] = sns.heatmap(retention_matrix, annot = True, fmt = '0.1%', vmax = 0.2, linewidths = 1, linecolor = 'black', cmap = \"Greens\")\n",
    "        cbar = ax[1].collections[0].colorbar\n",
    "        cbar.set_ticks([0, 0.05, 0.1, 0.15, 0.2])\n",
    "        cbar.set_ticklabels(['0%', '5%', '10%', '15%', '20%'])\n",
    "        ax[1].set_title('Retention Rate since {} within {} days'.format(start_date, interval), fontsize=30)\n",
    "        ax[1].set(xlabel='Days since day of registration',\n",
    "                  ylabel='')\n",
    "\n",
    "        # cohort size\n",
    "        cohort_size_df = pd.DataFrame(cohort_size).rename(columns = {0: 'Clients in cohort'})\n",
    "        white_cmap = mcolors.ListedColormap(['white'])\n",
    "        sns.heatmap(cohort_size_df, \n",
    "                    annot = True, \n",
    "                    cbar = False, \n",
    "                    fmt = 'g', \n",
    "                    cmap = white_cmap, \n",
    "                    ax = ax[0])\n",
    "        ax[0].set_yticklabels(retention_matrix.reset_index().reg_ts.astype(str).str[:10]) \n",
    "        ax[0].set(ylabel = 'Date of registration')\n",
    "        fig.tight_layout()\n",
    "    \n",
    "    return retention_matrix"
   ]
  },
  {
   "cell_type": "markdown",
   "metadata": {},
   "source": [
    "Для примера расчитаем показатель retention в промежутке в 30 дней начиная с 1 января 2018 года."
   ]
  },
  {
   "cell_type": "code",
   "execution_count": 6,
   "metadata": {},
   "outputs": [
    {
     "data": {
      "text/html": [
       "<div>\n",
       "<style scoped>\n",
       "    .dataframe tbody tr th:only-of-type {\n",
       "        vertical-align: middle;\n",
       "    }\n",
       "\n",
       "    .dataframe tbody tr th {\n",
       "        vertical-align: top;\n",
       "    }\n",
       "\n",
       "    .dataframe thead th {\n",
       "        text-align: right;\n",
       "    }\n",
       "</style>\n",
       "<table border=\"1\" class=\"dataframe\">\n",
       "  <thead>\n",
       "    <tr style=\"text-align: right;\">\n",
       "      <th>lifetime</th>\n",
       "      <th>0</th>\n",
       "      <th>1</th>\n",
       "      <th>2</th>\n",
       "      <th>3</th>\n",
       "      <th>4</th>\n",
       "      <th>5</th>\n",
       "      <th>6</th>\n",
       "      <th>7</th>\n",
       "      <th>8</th>\n",
       "      <th>9</th>\n",
       "      <th>...</th>\n",
       "      <th>21</th>\n",
       "      <th>22</th>\n",
       "      <th>23</th>\n",
       "      <th>24</th>\n",
       "      <th>25</th>\n",
       "      <th>26</th>\n",
       "      <th>27</th>\n",
       "      <th>28</th>\n",
       "      <th>29</th>\n",
       "      <th>30</th>\n",
       "    </tr>\n",
       "    <tr>\n",
       "      <th>reg_ts</th>\n",
       "      <th></th>\n",
       "      <th></th>\n",
       "      <th></th>\n",
       "      <th></th>\n",
       "      <th></th>\n",
       "      <th></th>\n",
       "      <th></th>\n",
       "      <th></th>\n",
       "      <th></th>\n",
       "      <th></th>\n",
       "      <th></th>\n",
       "      <th></th>\n",
       "      <th></th>\n",
       "      <th></th>\n",
       "      <th></th>\n",
       "      <th></th>\n",
       "      <th></th>\n",
       "      <th></th>\n",
       "      <th></th>\n",
       "      <th></th>\n",
       "      <th></th>\n",
       "    </tr>\n",
       "  </thead>\n",
       "  <tbody>\n",
       "    <tr>\n",
       "      <th>2018-01-01</th>\n",
       "      <td>1.0</td>\n",
       "      <td>0.009</td>\n",
       "      <td>0.034</td>\n",
       "      <td>0.050</td>\n",
       "      <td>0.056</td>\n",
       "      <td>0.059</td>\n",
       "      <td>0.059</td>\n",
       "      <td>0.050</td>\n",
       "      <td>0.038</td>\n",
       "      <td>0.056</td>\n",
       "      <td>...</td>\n",
       "      <td>0.034</td>\n",
       "      <td>0.047</td>\n",
       "      <td>0.016</td>\n",
       "      <td>0.031</td>\n",
       "      <td>0.022</td>\n",
       "      <td>0.025</td>\n",
       "      <td>0.031</td>\n",
       "      <td>0.025</td>\n",
       "      <td>0.041</td>\n",
       "      <td>0.025</td>\n",
       "    </tr>\n",
       "    <tr>\n",
       "      <th>2018-01-02</th>\n",
       "      <td>1.0</td>\n",
       "      <td>0.025</td>\n",
       "      <td>0.038</td>\n",
       "      <td>0.047</td>\n",
       "      <td>0.059</td>\n",
       "      <td>0.066</td>\n",
       "      <td>0.053</td>\n",
       "      <td>0.031</td>\n",
       "      <td>0.034</td>\n",
       "      <td>0.069</td>\n",
       "      <td>...</td>\n",
       "      <td>0.044</td>\n",
       "      <td>0.047</td>\n",
       "      <td>0.012</td>\n",
       "      <td>0.031</td>\n",
       "      <td>0.025</td>\n",
       "      <td>0.034</td>\n",
       "      <td>0.031</td>\n",
       "      <td>0.019</td>\n",
       "      <td>0.031</td>\n",
       "      <td>NaN</td>\n",
       "    </tr>\n",
       "    <tr>\n",
       "      <th>2018-01-03</th>\n",
       "      <td>1.0</td>\n",
       "      <td>0.019</td>\n",
       "      <td>0.038</td>\n",
       "      <td>0.062</td>\n",
       "      <td>0.062</td>\n",
       "      <td>0.069</td>\n",
       "      <td>0.062</td>\n",
       "      <td>0.050</td>\n",
       "      <td>0.044</td>\n",
       "      <td>0.072</td>\n",
       "      <td>...</td>\n",
       "      <td>0.050</td>\n",
       "      <td>0.038</td>\n",
       "      <td>0.028</td>\n",
       "      <td>0.034</td>\n",
       "      <td>0.025</td>\n",
       "      <td>0.019</td>\n",
       "      <td>0.041</td>\n",
       "      <td>0.041</td>\n",
       "      <td>NaN</td>\n",
       "      <td>NaN</td>\n",
       "    </tr>\n",
       "    <tr>\n",
       "      <th>2018-01-04</th>\n",
       "      <td>1.0</td>\n",
       "      <td>0.009</td>\n",
       "      <td>0.059</td>\n",
       "      <td>0.053</td>\n",
       "      <td>0.075</td>\n",
       "      <td>0.062</td>\n",
       "      <td>0.059</td>\n",
       "      <td>0.075</td>\n",
       "      <td>0.040</td>\n",
       "      <td>0.050</td>\n",
       "      <td>...</td>\n",
       "      <td>0.040</td>\n",
       "      <td>0.031</td>\n",
       "      <td>0.053</td>\n",
       "      <td>0.044</td>\n",
       "      <td>0.034</td>\n",
       "      <td>0.022</td>\n",
       "      <td>0.025</td>\n",
       "      <td>NaN</td>\n",
       "      <td>NaN</td>\n",
       "      <td>NaN</td>\n",
       "    </tr>\n",
       "    <tr>\n",
       "      <th>2018-01-05</th>\n",
       "      <td>1.0</td>\n",
       "      <td>0.025</td>\n",
       "      <td>0.050</td>\n",
       "      <td>0.056</td>\n",
       "      <td>0.028</td>\n",
       "      <td>0.059</td>\n",
       "      <td>0.062</td>\n",
       "      <td>0.081</td>\n",
       "      <td>0.053</td>\n",
       "      <td>0.059</td>\n",
       "      <td>...</td>\n",
       "      <td>0.062</td>\n",
       "      <td>0.044</td>\n",
       "      <td>0.028</td>\n",
       "      <td>0.037</td>\n",
       "      <td>0.047</td>\n",
       "      <td>0.044</td>\n",
       "      <td>NaN</td>\n",
       "      <td>NaN</td>\n",
       "      <td>NaN</td>\n",
       "      <td>NaN</td>\n",
       "    </tr>\n",
       "    <tr>\n",
       "      <th>2018-01-06</th>\n",
       "      <td>1.0</td>\n",
       "      <td>0.031</td>\n",
       "      <td>0.047</td>\n",
       "      <td>0.040</td>\n",
       "      <td>0.034</td>\n",
       "      <td>0.065</td>\n",
       "      <td>0.096</td>\n",
       "      <td>0.056</td>\n",
       "      <td>0.037</td>\n",
       "      <td>0.053</td>\n",
       "      <td>...</td>\n",
       "      <td>0.034</td>\n",
       "      <td>0.022</td>\n",
       "      <td>0.062</td>\n",
       "      <td>0.019</td>\n",
       "      <td>0.037</td>\n",
       "      <td>NaN</td>\n",
       "      <td>NaN</td>\n",
       "      <td>NaN</td>\n",
       "      <td>NaN</td>\n",
       "      <td>NaN</td>\n",
       "    </tr>\n",
       "    <tr>\n",
       "      <th>2018-01-07</th>\n",
       "      <td>1.0</td>\n",
       "      <td>0.022</td>\n",
       "      <td>0.043</td>\n",
       "      <td>0.059</td>\n",
       "      <td>0.056</td>\n",
       "      <td>0.056</td>\n",
       "      <td>0.068</td>\n",
       "      <td>0.080</td>\n",
       "      <td>0.040</td>\n",
       "      <td>0.071</td>\n",
       "      <td>...</td>\n",
       "      <td>0.065</td>\n",
       "      <td>0.028</td>\n",
       "      <td>0.028</td>\n",
       "      <td>0.050</td>\n",
       "      <td>NaN</td>\n",
       "      <td>NaN</td>\n",
       "      <td>NaN</td>\n",
       "      <td>NaN</td>\n",
       "      <td>NaN</td>\n",
       "      <td>NaN</td>\n",
       "    </tr>\n",
       "    <tr>\n",
       "      <th>2018-01-08</th>\n",
       "      <td>1.0</td>\n",
       "      <td>0.031</td>\n",
       "      <td>0.046</td>\n",
       "      <td>0.062</td>\n",
       "      <td>0.040</td>\n",
       "      <td>0.050</td>\n",
       "      <td>0.059</td>\n",
       "      <td>0.068</td>\n",
       "      <td>0.053</td>\n",
       "      <td>0.053</td>\n",
       "      <td>...</td>\n",
       "      <td>0.040</td>\n",
       "      <td>0.046</td>\n",
       "      <td>0.025</td>\n",
       "      <td>NaN</td>\n",
       "      <td>NaN</td>\n",
       "      <td>NaN</td>\n",
       "      <td>NaN</td>\n",
       "      <td>NaN</td>\n",
       "      <td>NaN</td>\n",
       "      <td>NaN</td>\n",
       "    </tr>\n",
       "    <tr>\n",
       "      <th>2018-01-09</th>\n",
       "      <td>1.0</td>\n",
       "      <td>0.043</td>\n",
       "      <td>0.037</td>\n",
       "      <td>0.056</td>\n",
       "      <td>0.052</td>\n",
       "      <td>0.080</td>\n",
       "      <td>0.068</td>\n",
       "      <td>0.037</td>\n",
       "      <td>0.056</td>\n",
       "      <td>0.059</td>\n",
       "      <td>...</td>\n",
       "      <td>0.049</td>\n",
       "      <td>0.046</td>\n",
       "      <td>NaN</td>\n",
       "      <td>NaN</td>\n",
       "      <td>NaN</td>\n",
       "      <td>NaN</td>\n",
       "      <td>NaN</td>\n",
       "      <td>NaN</td>\n",
       "      <td>NaN</td>\n",
       "      <td>NaN</td>\n",
       "    </tr>\n",
       "    <tr>\n",
       "      <th>2018-01-10</th>\n",
       "      <td>1.0</td>\n",
       "      <td>0.025</td>\n",
       "      <td>0.052</td>\n",
       "      <td>0.034</td>\n",
       "      <td>0.052</td>\n",
       "      <td>0.059</td>\n",
       "      <td>0.068</td>\n",
       "      <td>0.056</td>\n",
       "      <td>0.040</td>\n",
       "      <td>0.043</td>\n",
       "      <td>...</td>\n",
       "      <td>0.043</td>\n",
       "      <td>NaN</td>\n",
       "      <td>NaN</td>\n",
       "      <td>NaN</td>\n",
       "      <td>NaN</td>\n",
       "      <td>NaN</td>\n",
       "      <td>NaN</td>\n",
       "      <td>NaN</td>\n",
       "      <td>NaN</td>\n",
       "      <td>NaN</td>\n",
       "    </tr>\n",
       "    <tr>\n",
       "      <th>2018-01-11</th>\n",
       "      <td>1.0</td>\n",
       "      <td>0.025</td>\n",
       "      <td>0.046</td>\n",
       "      <td>0.040</td>\n",
       "      <td>0.046</td>\n",
       "      <td>0.074</td>\n",
       "      <td>0.056</td>\n",
       "      <td>0.037</td>\n",
       "      <td>0.052</td>\n",
       "      <td>0.049</td>\n",
       "      <td>...</td>\n",
       "      <td>NaN</td>\n",
       "      <td>NaN</td>\n",
       "      <td>NaN</td>\n",
       "      <td>NaN</td>\n",
       "      <td>NaN</td>\n",
       "      <td>NaN</td>\n",
       "      <td>NaN</td>\n",
       "      <td>NaN</td>\n",
       "      <td>NaN</td>\n",
       "      <td>NaN</td>\n",
       "    </tr>\n",
       "    <tr>\n",
       "      <th>2018-01-12</th>\n",
       "      <td>1.0</td>\n",
       "      <td>0.009</td>\n",
       "      <td>0.055</td>\n",
       "      <td>0.058</td>\n",
       "      <td>0.052</td>\n",
       "      <td>0.068</td>\n",
       "      <td>0.071</td>\n",
       "      <td>0.068</td>\n",
       "      <td>0.037</td>\n",
       "      <td>0.074</td>\n",
       "      <td>...</td>\n",
       "      <td>NaN</td>\n",
       "      <td>NaN</td>\n",
       "      <td>NaN</td>\n",
       "      <td>NaN</td>\n",
       "      <td>NaN</td>\n",
       "      <td>NaN</td>\n",
       "      <td>NaN</td>\n",
       "      <td>NaN</td>\n",
       "      <td>NaN</td>\n",
       "      <td>NaN</td>\n",
       "    </tr>\n",
       "    <tr>\n",
       "      <th>2018-01-13</th>\n",
       "      <td>1.0</td>\n",
       "      <td>0.025</td>\n",
       "      <td>0.064</td>\n",
       "      <td>0.061</td>\n",
       "      <td>0.052</td>\n",
       "      <td>0.080</td>\n",
       "      <td>0.064</td>\n",
       "      <td>0.046</td>\n",
       "      <td>0.043</td>\n",
       "      <td>0.052</td>\n",
       "      <td>...</td>\n",
       "      <td>NaN</td>\n",
       "      <td>NaN</td>\n",
       "      <td>NaN</td>\n",
       "      <td>NaN</td>\n",
       "      <td>NaN</td>\n",
       "      <td>NaN</td>\n",
       "      <td>NaN</td>\n",
       "      <td>NaN</td>\n",
       "      <td>NaN</td>\n",
       "      <td>NaN</td>\n",
       "    </tr>\n",
       "    <tr>\n",
       "      <th>2018-01-14</th>\n",
       "      <td>1.0</td>\n",
       "      <td>0.018</td>\n",
       "      <td>0.034</td>\n",
       "      <td>0.046</td>\n",
       "      <td>0.040</td>\n",
       "      <td>0.055</td>\n",
       "      <td>0.043</td>\n",
       "      <td>0.055</td>\n",
       "      <td>0.037</td>\n",
       "      <td>0.037</td>\n",
       "      <td>...</td>\n",
       "      <td>NaN</td>\n",
       "      <td>NaN</td>\n",
       "      <td>NaN</td>\n",
       "      <td>NaN</td>\n",
       "      <td>NaN</td>\n",
       "      <td>NaN</td>\n",
       "      <td>NaN</td>\n",
       "      <td>NaN</td>\n",
       "      <td>NaN</td>\n",
       "      <td>NaN</td>\n",
       "    </tr>\n",
       "    <tr>\n",
       "      <th>2018-01-15</th>\n",
       "      <td>1.0</td>\n",
       "      <td>0.003</td>\n",
       "      <td>0.028</td>\n",
       "      <td>0.058</td>\n",
       "      <td>0.043</td>\n",
       "      <td>0.052</td>\n",
       "      <td>0.076</td>\n",
       "      <td>0.055</td>\n",
       "      <td>0.049</td>\n",
       "      <td>0.040</td>\n",
       "      <td>...</td>\n",
       "      <td>NaN</td>\n",
       "      <td>NaN</td>\n",
       "      <td>NaN</td>\n",
       "      <td>NaN</td>\n",
       "      <td>NaN</td>\n",
       "      <td>NaN</td>\n",
       "      <td>NaN</td>\n",
       "      <td>NaN</td>\n",
       "      <td>NaN</td>\n",
       "      <td>NaN</td>\n",
       "    </tr>\n",
       "    <tr>\n",
       "      <th>2018-01-16</th>\n",
       "      <td>1.0</td>\n",
       "      <td>0.021</td>\n",
       "      <td>0.037</td>\n",
       "      <td>0.049</td>\n",
       "      <td>0.030</td>\n",
       "      <td>0.061</td>\n",
       "      <td>0.058</td>\n",
       "      <td>0.040</td>\n",
       "      <td>0.043</td>\n",
       "      <td>0.058</td>\n",
       "      <td>...</td>\n",
       "      <td>NaN</td>\n",
       "      <td>NaN</td>\n",
       "      <td>NaN</td>\n",
       "      <td>NaN</td>\n",
       "      <td>NaN</td>\n",
       "      <td>NaN</td>\n",
       "      <td>NaN</td>\n",
       "      <td>NaN</td>\n",
       "      <td>NaN</td>\n",
       "      <td>NaN</td>\n",
       "    </tr>\n",
       "    <tr>\n",
       "      <th>2018-01-17</th>\n",
       "      <td>1.0</td>\n",
       "      <td>0.024</td>\n",
       "      <td>0.043</td>\n",
       "      <td>0.046</td>\n",
       "      <td>0.052</td>\n",
       "      <td>0.052</td>\n",
       "      <td>0.064</td>\n",
       "      <td>0.061</td>\n",
       "      <td>0.034</td>\n",
       "      <td>0.052</td>\n",
       "      <td>...</td>\n",
       "      <td>NaN</td>\n",
       "      <td>NaN</td>\n",
       "      <td>NaN</td>\n",
       "      <td>NaN</td>\n",
       "      <td>NaN</td>\n",
       "      <td>NaN</td>\n",
       "      <td>NaN</td>\n",
       "      <td>NaN</td>\n",
       "      <td>NaN</td>\n",
       "      <td>NaN</td>\n",
       "    </tr>\n",
       "    <tr>\n",
       "      <th>2018-01-18</th>\n",
       "      <td>1.0</td>\n",
       "      <td>0.012</td>\n",
       "      <td>0.027</td>\n",
       "      <td>0.049</td>\n",
       "      <td>0.040</td>\n",
       "      <td>0.058</td>\n",
       "      <td>0.082</td>\n",
       "      <td>0.064</td>\n",
       "      <td>0.036</td>\n",
       "      <td>0.036</td>\n",
       "      <td>...</td>\n",
       "      <td>NaN</td>\n",
       "      <td>NaN</td>\n",
       "      <td>NaN</td>\n",
       "      <td>NaN</td>\n",
       "      <td>NaN</td>\n",
       "      <td>NaN</td>\n",
       "      <td>NaN</td>\n",
       "      <td>NaN</td>\n",
       "      <td>NaN</td>\n",
       "      <td>NaN</td>\n",
       "    </tr>\n",
       "    <tr>\n",
       "      <th>2018-01-19</th>\n",
       "      <td>1.0</td>\n",
       "      <td>0.015</td>\n",
       "      <td>0.040</td>\n",
       "      <td>0.043</td>\n",
       "      <td>0.055</td>\n",
       "      <td>0.061</td>\n",
       "      <td>0.061</td>\n",
       "      <td>0.043</td>\n",
       "      <td>0.052</td>\n",
       "      <td>0.061</td>\n",
       "      <td>...</td>\n",
       "      <td>NaN</td>\n",
       "      <td>NaN</td>\n",
       "      <td>NaN</td>\n",
       "      <td>NaN</td>\n",
       "      <td>NaN</td>\n",
       "      <td>NaN</td>\n",
       "      <td>NaN</td>\n",
       "      <td>NaN</td>\n",
       "      <td>NaN</td>\n",
       "      <td>NaN</td>\n",
       "    </tr>\n",
       "    <tr>\n",
       "      <th>2018-01-20</th>\n",
       "      <td>1.0</td>\n",
       "      <td>0.027</td>\n",
       "      <td>0.027</td>\n",
       "      <td>0.040</td>\n",
       "      <td>0.055</td>\n",
       "      <td>0.073</td>\n",
       "      <td>0.058</td>\n",
       "      <td>0.064</td>\n",
       "      <td>0.055</td>\n",
       "      <td>0.049</td>\n",
       "      <td>...</td>\n",
       "      <td>NaN</td>\n",
       "      <td>NaN</td>\n",
       "      <td>NaN</td>\n",
       "      <td>NaN</td>\n",
       "      <td>NaN</td>\n",
       "      <td>NaN</td>\n",
       "      <td>NaN</td>\n",
       "      <td>NaN</td>\n",
       "      <td>NaN</td>\n",
       "      <td>NaN</td>\n",
       "    </tr>\n",
       "    <tr>\n",
       "      <th>2018-01-21</th>\n",
       "      <td>1.0</td>\n",
       "      <td>0.009</td>\n",
       "      <td>0.061</td>\n",
       "      <td>0.036</td>\n",
       "      <td>0.045</td>\n",
       "      <td>0.039</td>\n",
       "      <td>0.073</td>\n",
       "      <td>0.070</td>\n",
       "      <td>0.045</td>\n",
       "      <td>0.045</td>\n",
       "      <td>...</td>\n",
       "      <td>NaN</td>\n",
       "      <td>NaN</td>\n",
       "      <td>NaN</td>\n",
       "      <td>NaN</td>\n",
       "      <td>NaN</td>\n",
       "      <td>NaN</td>\n",
       "      <td>NaN</td>\n",
       "      <td>NaN</td>\n",
       "      <td>NaN</td>\n",
       "      <td>NaN</td>\n",
       "    </tr>\n",
       "    <tr>\n",
       "      <th>2018-01-22</th>\n",
       "      <td>1.0</td>\n",
       "      <td>0.015</td>\n",
       "      <td>0.039</td>\n",
       "      <td>0.057</td>\n",
       "      <td>0.091</td>\n",
       "      <td>0.051</td>\n",
       "      <td>0.076</td>\n",
       "      <td>0.076</td>\n",
       "      <td>0.048</td>\n",
       "      <td>0.063</td>\n",
       "      <td>...</td>\n",
       "      <td>NaN</td>\n",
       "      <td>NaN</td>\n",
       "      <td>NaN</td>\n",
       "      <td>NaN</td>\n",
       "      <td>NaN</td>\n",
       "      <td>NaN</td>\n",
       "      <td>NaN</td>\n",
       "      <td>NaN</td>\n",
       "      <td>NaN</td>\n",
       "      <td>NaN</td>\n",
       "    </tr>\n",
       "    <tr>\n",
       "      <th>2018-01-23</th>\n",
       "      <td>1.0</td>\n",
       "      <td>0.021</td>\n",
       "      <td>0.036</td>\n",
       "      <td>0.036</td>\n",
       "      <td>0.054</td>\n",
       "      <td>0.054</td>\n",
       "      <td>0.082</td>\n",
       "      <td>0.030</td>\n",
       "      <td>0.033</td>\n",
       "      <td>NaN</td>\n",
       "      <td>...</td>\n",
       "      <td>NaN</td>\n",
       "      <td>NaN</td>\n",
       "      <td>NaN</td>\n",
       "      <td>NaN</td>\n",
       "      <td>NaN</td>\n",
       "      <td>NaN</td>\n",
       "      <td>NaN</td>\n",
       "      <td>NaN</td>\n",
       "      <td>NaN</td>\n",
       "      <td>NaN</td>\n",
       "    </tr>\n",
       "    <tr>\n",
       "      <th>2018-01-24</th>\n",
       "      <td>1.0</td>\n",
       "      <td>0.012</td>\n",
       "      <td>0.033</td>\n",
       "      <td>0.042</td>\n",
       "      <td>0.036</td>\n",
       "      <td>0.051</td>\n",
       "      <td>0.057</td>\n",
       "      <td>0.054</td>\n",
       "      <td>NaN</td>\n",
       "      <td>NaN</td>\n",
       "      <td>...</td>\n",
       "      <td>NaN</td>\n",
       "      <td>NaN</td>\n",
       "      <td>NaN</td>\n",
       "      <td>NaN</td>\n",
       "      <td>NaN</td>\n",
       "      <td>NaN</td>\n",
       "      <td>NaN</td>\n",
       "      <td>NaN</td>\n",
       "      <td>NaN</td>\n",
       "      <td>NaN</td>\n",
       "    </tr>\n",
       "    <tr>\n",
       "      <th>2018-01-25</th>\n",
       "      <td>1.0</td>\n",
       "      <td>0.018</td>\n",
       "      <td>0.036</td>\n",
       "      <td>0.045</td>\n",
       "      <td>0.051</td>\n",
       "      <td>0.045</td>\n",
       "      <td>0.069</td>\n",
       "      <td>NaN</td>\n",
       "      <td>NaN</td>\n",
       "      <td>NaN</td>\n",
       "      <td>...</td>\n",
       "      <td>NaN</td>\n",
       "      <td>NaN</td>\n",
       "      <td>NaN</td>\n",
       "      <td>NaN</td>\n",
       "      <td>NaN</td>\n",
       "      <td>NaN</td>\n",
       "      <td>NaN</td>\n",
       "      <td>NaN</td>\n",
       "      <td>NaN</td>\n",
       "      <td>NaN</td>\n",
       "    </tr>\n",
       "    <tr>\n",
       "      <th>2018-01-26</th>\n",
       "      <td>1.0</td>\n",
       "      <td>0.015</td>\n",
       "      <td>0.033</td>\n",
       "      <td>0.033</td>\n",
       "      <td>0.054</td>\n",
       "      <td>0.057</td>\n",
       "      <td>NaN</td>\n",
       "      <td>NaN</td>\n",
       "      <td>NaN</td>\n",
       "      <td>NaN</td>\n",
       "      <td>...</td>\n",
       "      <td>NaN</td>\n",
       "      <td>NaN</td>\n",
       "      <td>NaN</td>\n",
       "      <td>NaN</td>\n",
       "      <td>NaN</td>\n",
       "      <td>NaN</td>\n",
       "      <td>NaN</td>\n",
       "      <td>NaN</td>\n",
       "      <td>NaN</td>\n",
       "      <td>NaN</td>\n",
       "    </tr>\n",
       "    <tr>\n",
       "      <th>2018-01-27</th>\n",
       "      <td>1.0</td>\n",
       "      <td>0.021</td>\n",
       "      <td>0.057</td>\n",
       "      <td>0.051</td>\n",
       "      <td>0.057</td>\n",
       "      <td>NaN</td>\n",
       "      <td>NaN</td>\n",
       "      <td>NaN</td>\n",
       "      <td>NaN</td>\n",
       "      <td>NaN</td>\n",
       "      <td>...</td>\n",
       "      <td>NaN</td>\n",
       "      <td>NaN</td>\n",
       "      <td>NaN</td>\n",
       "      <td>NaN</td>\n",
       "      <td>NaN</td>\n",
       "      <td>NaN</td>\n",
       "      <td>NaN</td>\n",
       "      <td>NaN</td>\n",
       "      <td>NaN</td>\n",
       "      <td>NaN</td>\n",
       "    </tr>\n",
       "    <tr>\n",
       "      <th>2018-01-28</th>\n",
       "      <td>1.0</td>\n",
       "      <td>0.009</td>\n",
       "      <td>0.036</td>\n",
       "      <td>0.045</td>\n",
       "      <td>NaN</td>\n",
       "      <td>NaN</td>\n",
       "      <td>NaN</td>\n",
       "      <td>NaN</td>\n",
       "      <td>NaN</td>\n",
       "      <td>NaN</td>\n",
       "      <td>...</td>\n",
       "      <td>NaN</td>\n",
       "      <td>NaN</td>\n",
       "      <td>NaN</td>\n",
       "      <td>NaN</td>\n",
       "      <td>NaN</td>\n",
       "      <td>NaN</td>\n",
       "      <td>NaN</td>\n",
       "      <td>NaN</td>\n",
       "      <td>NaN</td>\n",
       "      <td>NaN</td>\n",
       "    </tr>\n",
       "    <tr>\n",
       "      <th>2018-01-29</th>\n",
       "      <td>1.0</td>\n",
       "      <td>0.045</td>\n",
       "      <td>0.045</td>\n",
       "      <td>NaN</td>\n",
       "      <td>NaN</td>\n",
       "      <td>NaN</td>\n",
       "      <td>NaN</td>\n",
       "      <td>NaN</td>\n",
       "      <td>NaN</td>\n",
       "      <td>NaN</td>\n",
       "      <td>...</td>\n",
       "      <td>NaN</td>\n",
       "      <td>NaN</td>\n",
       "      <td>NaN</td>\n",
       "      <td>NaN</td>\n",
       "      <td>NaN</td>\n",
       "      <td>NaN</td>\n",
       "      <td>NaN</td>\n",
       "      <td>NaN</td>\n",
       "      <td>NaN</td>\n",
       "      <td>NaN</td>\n",
       "    </tr>\n",
       "    <tr>\n",
       "      <th>2018-01-30</th>\n",
       "      <td>1.0</td>\n",
       "      <td>0.027</td>\n",
       "      <td>NaN</td>\n",
       "      <td>NaN</td>\n",
       "      <td>NaN</td>\n",
       "      <td>NaN</td>\n",
       "      <td>NaN</td>\n",
       "      <td>NaN</td>\n",
       "      <td>NaN</td>\n",
       "      <td>NaN</td>\n",
       "      <td>...</td>\n",
       "      <td>NaN</td>\n",
       "      <td>NaN</td>\n",
       "      <td>NaN</td>\n",
       "      <td>NaN</td>\n",
       "      <td>NaN</td>\n",
       "      <td>NaN</td>\n",
       "      <td>NaN</td>\n",
       "      <td>NaN</td>\n",
       "      <td>NaN</td>\n",
       "      <td>NaN</td>\n",
       "    </tr>\n",
       "    <tr>\n",
       "      <th>2018-01-31</th>\n",
       "      <td>1.0</td>\n",
       "      <td>NaN</td>\n",
       "      <td>NaN</td>\n",
       "      <td>NaN</td>\n",
       "      <td>NaN</td>\n",
       "      <td>NaN</td>\n",
       "      <td>NaN</td>\n",
       "      <td>NaN</td>\n",
       "      <td>NaN</td>\n",
       "      <td>NaN</td>\n",
       "      <td>...</td>\n",
       "      <td>NaN</td>\n",
       "      <td>NaN</td>\n",
       "      <td>NaN</td>\n",
       "      <td>NaN</td>\n",
       "      <td>NaN</td>\n",
       "      <td>NaN</td>\n",
       "      <td>NaN</td>\n",
       "      <td>NaN</td>\n",
       "      <td>NaN</td>\n",
       "      <td>NaN</td>\n",
       "    </tr>\n",
       "  </tbody>\n",
       "</table>\n",
       "<p>31 rows × 31 columns</p>\n",
       "</div>"
      ],
      "text/plain": [
       "lifetime     0      1      2      3      4      5      6      7      8   \\\n",
       "reg_ts                                                                    \n",
       "2018-01-01  1.0  0.009  0.034  0.050  0.056  0.059  0.059  0.050  0.038   \n",
       "2018-01-02  1.0  0.025  0.038  0.047  0.059  0.066  0.053  0.031  0.034   \n",
       "2018-01-03  1.0  0.019  0.038  0.062  0.062  0.069  0.062  0.050  0.044   \n",
       "2018-01-04  1.0  0.009  0.059  0.053  0.075  0.062  0.059  0.075  0.040   \n",
       "2018-01-05  1.0  0.025  0.050  0.056  0.028  0.059  0.062  0.081  0.053   \n",
       "2018-01-06  1.0  0.031  0.047  0.040  0.034  0.065  0.096  0.056  0.037   \n",
       "2018-01-07  1.0  0.022  0.043  0.059  0.056  0.056  0.068  0.080  0.040   \n",
       "2018-01-08  1.0  0.031  0.046  0.062  0.040  0.050  0.059  0.068  0.053   \n",
       "2018-01-09  1.0  0.043  0.037  0.056  0.052  0.080  0.068  0.037  0.056   \n",
       "2018-01-10  1.0  0.025  0.052  0.034  0.052  0.059  0.068  0.056  0.040   \n",
       "2018-01-11  1.0  0.025  0.046  0.040  0.046  0.074  0.056  0.037  0.052   \n",
       "2018-01-12  1.0  0.009  0.055  0.058  0.052  0.068  0.071  0.068  0.037   \n",
       "2018-01-13  1.0  0.025  0.064  0.061  0.052  0.080  0.064  0.046  0.043   \n",
       "2018-01-14  1.0  0.018  0.034  0.046  0.040  0.055  0.043  0.055  0.037   \n",
       "2018-01-15  1.0  0.003  0.028  0.058  0.043  0.052  0.076  0.055  0.049   \n",
       "2018-01-16  1.0  0.021  0.037  0.049  0.030  0.061  0.058  0.040  0.043   \n",
       "2018-01-17  1.0  0.024  0.043  0.046  0.052  0.052  0.064  0.061  0.034   \n",
       "2018-01-18  1.0  0.012  0.027  0.049  0.040  0.058  0.082  0.064  0.036   \n",
       "2018-01-19  1.0  0.015  0.040  0.043  0.055  0.061  0.061  0.043  0.052   \n",
       "2018-01-20  1.0  0.027  0.027  0.040  0.055  0.073  0.058  0.064  0.055   \n",
       "2018-01-21  1.0  0.009  0.061  0.036  0.045  0.039  0.073  0.070  0.045   \n",
       "2018-01-22  1.0  0.015  0.039  0.057  0.091  0.051  0.076  0.076  0.048   \n",
       "2018-01-23  1.0  0.021  0.036  0.036  0.054  0.054  0.082  0.030  0.033   \n",
       "2018-01-24  1.0  0.012  0.033  0.042  0.036  0.051  0.057  0.054    NaN   \n",
       "2018-01-25  1.0  0.018  0.036  0.045  0.051  0.045  0.069    NaN    NaN   \n",
       "2018-01-26  1.0  0.015  0.033  0.033  0.054  0.057    NaN    NaN    NaN   \n",
       "2018-01-27  1.0  0.021  0.057  0.051  0.057    NaN    NaN    NaN    NaN   \n",
       "2018-01-28  1.0  0.009  0.036  0.045    NaN    NaN    NaN    NaN    NaN   \n",
       "2018-01-29  1.0  0.045  0.045    NaN    NaN    NaN    NaN    NaN    NaN   \n",
       "2018-01-30  1.0  0.027    NaN    NaN    NaN    NaN    NaN    NaN    NaN   \n",
       "2018-01-31  1.0    NaN    NaN    NaN    NaN    NaN    NaN    NaN    NaN   \n",
       "\n",
       "lifetime       9   ...     21     22     23     24     25     26     27  \\\n",
       "reg_ts             ...                                                    \n",
       "2018-01-01  0.056  ...  0.034  0.047  0.016  0.031  0.022  0.025  0.031   \n",
       "2018-01-02  0.069  ...  0.044  0.047  0.012  0.031  0.025  0.034  0.031   \n",
       "2018-01-03  0.072  ...  0.050  0.038  0.028  0.034  0.025  0.019  0.041   \n",
       "2018-01-04  0.050  ...  0.040  0.031  0.053  0.044  0.034  0.022  0.025   \n",
       "2018-01-05  0.059  ...  0.062  0.044  0.028  0.037  0.047  0.044    NaN   \n",
       "2018-01-06  0.053  ...  0.034  0.022  0.062  0.019  0.037    NaN    NaN   \n",
       "2018-01-07  0.071  ...  0.065  0.028  0.028  0.050    NaN    NaN    NaN   \n",
       "2018-01-08  0.053  ...  0.040  0.046  0.025    NaN    NaN    NaN    NaN   \n",
       "2018-01-09  0.059  ...  0.049  0.046    NaN    NaN    NaN    NaN    NaN   \n",
       "2018-01-10  0.043  ...  0.043    NaN    NaN    NaN    NaN    NaN    NaN   \n",
       "2018-01-11  0.049  ...    NaN    NaN    NaN    NaN    NaN    NaN    NaN   \n",
       "2018-01-12  0.074  ...    NaN    NaN    NaN    NaN    NaN    NaN    NaN   \n",
       "2018-01-13  0.052  ...    NaN    NaN    NaN    NaN    NaN    NaN    NaN   \n",
       "2018-01-14  0.037  ...    NaN    NaN    NaN    NaN    NaN    NaN    NaN   \n",
       "2018-01-15  0.040  ...    NaN    NaN    NaN    NaN    NaN    NaN    NaN   \n",
       "2018-01-16  0.058  ...    NaN    NaN    NaN    NaN    NaN    NaN    NaN   \n",
       "2018-01-17  0.052  ...    NaN    NaN    NaN    NaN    NaN    NaN    NaN   \n",
       "2018-01-18  0.036  ...    NaN    NaN    NaN    NaN    NaN    NaN    NaN   \n",
       "2018-01-19  0.061  ...    NaN    NaN    NaN    NaN    NaN    NaN    NaN   \n",
       "2018-01-20  0.049  ...    NaN    NaN    NaN    NaN    NaN    NaN    NaN   \n",
       "2018-01-21  0.045  ...    NaN    NaN    NaN    NaN    NaN    NaN    NaN   \n",
       "2018-01-22  0.063  ...    NaN    NaN    NaN    NaN    NaN    NaN    NaN   \n",
       "2018-01-23    NaN  ...    NaN    NaN    NaN    NaN    NaN    NaN    NaN   \n",
       "2018-01-24    NaN  ...    NaN    NaN    NaN    NaN    NaN    NaN    NaN   \n",
       "2018-01-25    NaN  ...    NaN    NaN    NaN    NaN    NaN    NaN    NaN   \n",
       "2018-01-26    NaN  ...    NaN    NaN    NaN    NaN    NaN    NaN    NaN   \n",
       "2018-01-27    NaN  ...    NaN    NaN    NaN    NaN    NaN    NaN    NaN   \n",
       "2018-01-28    NaN  ...    NaN    NaN    NaN    NaN    NaN    NaN    NaN   \n",
       "2018-01-29    NaN  ...    NaN    NaN    NaN    NaN    NaN    NaN    NaN   \n",
       "2018-01-30    NaN  ...    NaN    NaN    NaN    NaN    NaN    NaN    NaN   \n",
       "2018-01-31    NaN  ...    NaN    NaN    NaN    NaN    NaN    NaN    NaN   \n",
       "\n",
       "lifetime       28     29     30  \n",
       "reg_ts                           \n",
       "2018-01-01  0.025  0.041  0.025  \n",
       "2018-01-02  0.019  0.031    NaN  \n",
       "2018-01-03  0.041    NaN    NaN  \n",
       "2018-01-04    NaN    NaN    NaN  \n",
       "2018-01-05    NaN    NaN    NaN  \n",
       "2018-01-06    NaN    NaN    NaN  \n",
       "2018-01-07    NaN    NaN    NaN  \n",
       "2018-01-08    NaN    NaN    NaN  \n",
       "2018-01-09    NaN    NaN    NaN  \n",
       "2018-01-10    NaN    NaN    NaN  \n",
       "2018-01-11    NaN    NaN    NaN  \n",
       "2018-01-12    NaN    NaN    NaN  \n",
       "2018-01-13    NaN    NaN    NaN  \n",
       "2018-01-14    NaN    NaN    NaN  \n",
       "2018-01-15    NaN    NaN    NaN  \n",
       "2018-01-16    NaN    NaN    NaN  \n",
       "2018-01-17    NaN    NaN    NaN  \n",
       "2018-01-18    NaN    NaN    NaN  \n",
       "2018-01-19    NaN    NaN    NaN  \n",
       "2018-01-20    NaN    NaN    NaN  \n",
       "2018-01-21    NaN    NaN    NaN  \n",
       "2018-01-22    NaN    NaN    NaN  \n",
       "2018-01-23    NaN    NaN    NaN  \n",
       "2018-01-24    NaN    NaN    NaN  \n",
       "2018-01-25    NaN    NaN    NaN  \n",
       "2018-01-26    NaN    NaN    NaN  \n",
       "2018-01-27    NaN    NaN    NaN  \n",
       "2018-01-28    NaN    NaN    NaN  \n",
       "2018-01-29    NaN    NaN    NaN  \n",
       "2018-01-30    NaN    NaN    NaN  \n",
       "2018-01-31    NaN    NaN    NaN  \n",
       "\n",
       "[31 rows x 31 columns]"
      ]
     },
     "execution_count": 6,
     "metadata": {},
     "output_type": "execute_result"
    },
    {
     "data": {
      "image/png": "[encoded data removed]",
      "text/plain": [
       "<Figure size 1800x720 with 3 Axes>"
      ]
     },
     "metadata": {},
     "output_type": "display_data"
    }
   ],
   "source": [
    "retention_count(reg, auth, '2018-01-01', 30)"
   ]
  },
  {
   "cell_type": "markdown",
   "metadata": {},
   "source": [
    "\n",
    "\n",
    "\n",
    "\n",
    "\n",
    "\n",
    "## Задание 2\n",
    "\n",
    "Имеются результаты A/B теста, в котором двум группам пользователей предлагались различные наборы акционных предложений. Известно, что ARPU в тестовой группе выше на 5%, чем в контрольной. При этом в контрольной группе 1928 игроков из 202103 оказались платящими, а в тестовой – 1805 из 202667.\n",
    "\n",
    "Какой набор предложений можно считать лучшим? Какие метрики стоит проанализировать для принятия правильного решения и как?"
   ]
  },
  {
   "cell_type": "code",
   "execution_count": 7,
   "metadata": {},
   "outputs": [],
   "source": [
    "import pandas as pd\n",
    "import numpy as np\n",
    "import scipy\n",
    "from scipy import stats\n",
    "import statsmodels.api as sm\n",
    "import pylab\n",
    "\n",
    "from scipy.stats import norm, mannwhitneyu\n",
    "import matplotlib.pyplot as plt\n",
    "from tqdm.auto import tqdm\n",
    "import seaborn as sns\n",
    "from scipy.stats import chi2_contingency, chi2\n",
    "import warnings\n",
    "warnings.filterwarnings(\"ignore\")\n",
    "\n",
    "from IPython.core.interactiveshell import InteractiveShell\n",
    "InteractiveShell.ast_node_interactivity = \"all\""
   ]
  },
  {
   "cell_type": "markdown",
   "metadata": {},
   "source": [
    "Приступим.\n",
    "Первым делом подгрузим имеющиемся данные, посмотрим описательные характеристики, проведем предобработку, проверим, присутствуют ли пропущенные значения в данных, поменяем типы данных, если это необходимо."
   ]
  },
  {
   "cell_type": "code",
   "execution_count": 8,
   "metadata": {},
   "outputs": [
    {
     "name": "stdout",
     "output_type": "stream",
     "text": [
      "--------------------------------------------------------------\n"
     ]
    },
    {
     "data": {
      "text/html": [
       "<div>\n",
       "<style scoped>\n",
       "    .dataframe tbody tr th:only-of-type {\n",
       "        vertical-align: middle;\n",
       "    }\n",
       "\n",
       "    .dataframe tbody tr th {\n",
       "        vertical-align: top;\n",
       "    }\n",
       "\n",
       "    .dataframe thead th {\n",
       "        text-align: right;\n",
       "    }\n",
       "</style>\n",
       "<table border=\"1\" class=\"dataframe\">\n",
       "  <thead>\n",
       "    <tr style=\"text-align: right;\">\n",
       "      <th></th>\n",
       "      <th>user_id</th>\n",
       "      <th>revenue</th>\n",
       "      <th>testgroup</th>\n",
       "    </tr>\n",
       "  </thead>\n",
       "  <tbody>\n",
       "    <tr>\n",
       "      <th>0</th>\n",
       "      <td>1</td>\n",
       "      <td>0</td>\n",
       "      <td>b</td>\n",
       "    </tr>\n",
       "    <tr>\n",
       "      <th>1</th>\n",
       "      <td>2</td>\n",
       "      <td>0</td>\n",
       "      <td>a</td>\n",
       "    </tr>\n",
       "    <tr>\n",
       "      <th>2</th>\n",
       "      <td>3</td>\n",
       "      <td>0</td>\n",
       "      <td>a</td>\n",
       "    </tr>\n",
       "    <tr>\n",
       "      <th>3</th>\n",
       "      <td>4</td>\n",
       "      <td>0</td>\n",
       "      <td>b</td>\n",
       "    </tr>\n",
       "    <tr>\n",
       "      <th>4</th>\n",
       "      <td>5</td>\n",
       "      <td>0</td>\n",
       "      <td>b</td>\n",
       "    </tr>\n",
       "  </tbody>\n",
       "</table>\n",
       "</div>"
      ],
      "text/plain": [
       "   user_id  revenue testgroup\n",
       "0        1        0         b\n",
       "1        2        0         a\n",
       "2        3        0         a\n",
       "3        4        0         b\n",
       "4        5        0         b"
      ]
     },
     "execution_count": 8,
     "metadata": {},
     "output_type": "execute_result"
    },
    {
     "name": "stdout",
     "output_type": "stream",
     "text": [
      "--------------------------------------------------------------\n",
      "<class 'pandas.core.frame.DataFrame'>\n",
      "RangeIndex: 404770 entries, 0 to 404769\n",
      "Data columns (total 3 columns):\n",
      " #   Column     Non-Null Count   Dtype \n",
      "---  ------     --------------   ----- \n",
      " 0   user_id    404770 non-null  int64 \n",
      " 1   revenue    404770 non-null  int64 \n",
      " 2   testgroup  404770 non-null  object\n",
      "dtypes: int64(2), object(1)\n",
      "memory usage: 9.3+ MB\n",
      "--------------------------------------------------------------\n"
     ]
    },
    {
     "data": {
      "text/plain": [
       "user_id      0\n",
       "revenue      0\n",
       "testgroup    0\n",
       "dtype: int64"
      ]
     },
     "execution_count": 8,
     "metadata": {},
     "output_type": "execute_result"
    },
    {
     "name": "stdout",
     "output_type": "stream",
     "text": [
      "--------------------------------------------------------------\n"
     ]
    },
    {
     "data": {
      "text/plain": [
       "0"
      ]
     },
     "execution_count": 8,
     "metadata": {},
     "output_type": "execute_result"
    }
   ],
   "source": [
    "AB = pd.read_csv('https://getfile.dokpub.com/yandex/get/https://disk.yandex.ru/d/12gk_ATEeBZm4A', sep=';') \n",
    "print('--------------------------------------------------------------')\n",
    "AB.head()\n",
    "print('--------------------------------------------------------------')\n",
    "AB.info()\n",
    "print('--------------------------------------------------------------')\n",
    "AB.isnull().sum()\n",
    "print('--------------------------------------------------------------')\n",
    "AB.duplicated().sum()"
   ]
  },
  {
   "cell_type": "markdown",
   "metadata": {},
   "source": [
    "Видим, что с данными все в порядке. Также видим, что в колонке testgroup - 2 типа (группы)."
   ]
  },
  {
   "cell_type": "markdown",
   "metadata": {},
   "source": [
    "Проверим условия задачи. Проверим, что число пользователей и число платящих пользователей - как в условии.\n",
    "\\\n",
    "И таким образом определим, какая из групп a и b является тестовой, а какая контрольной. \n"
   ]
  },
  {
   "cell_type": "code",
   "execution_count": 9,
   "metadata": {},
   "outputs": [
    {
     "name": "stdout",
     "output_type": "stream",
     "text": [
      "Кол-во игроков в группе a - 202103\n",
      "Кол-во платящих игроков в группе a - 1928\n",
      "Кол-во игроков в группе b -  202667\n",
      "Кол-во платящих игроков в группе b - 1805\n"
     ]
    }
   ],
   "source": [
    "print('Кол-во игроков в группе a -', AB.query('testgroup == \"a\"').shape[0])\n",
    "print('Кол-во платящих игроков в группе a -', AB.query('testgroup == \"a\" and revenue > 0').shape[0])\n",
    "print('Кол-во игроков в группе b - ', AB.query('testgroup == \"b\"').shape[0])\n",
    "print('Кол-во платящих игроков в группе b -', AB.query('testgroup == \"b\" and revenue > 0').shape[0])"
   ]
  },
  {
   "cell_type": "markdown",
   "metadata": {},
   "source": [
    "Таким образом, группа a является контрольной. Группа b является тестовой."
   ]
  },
  {
   "cell_type": "markdown",
   "metadata": {},
   "source": [
    "Для принятия решения будем анализировать следующие важные метрики: ARPU, ARPPU и CR.\n",
    "\\\n",
    "Соберем в одну таблицу значения данных метрик для наших групп."
   ]
  },
  {
   "cell_type": "code",
   "execution_count": 10,
   "metadata": {},
   "outputs": [
    {
     "data": {
      "text/html": [
       "<div>\n",
       "<style scoped>\n",
       "    .dataframe tbody tr th:only-of-type {\n",
       "        vertical-align: middle;\n",
       "    }\n",
       "\n",
       "    .dataframe tbody tr th {\n",
       "        vertical-align: top;\n",
       "    }\n",
       "\n",
       "    .dataframe thead th {\n",
       "        text-align: right;\n",
       "    }\n",
       "</style>\n",
       "<table border=\"1\" class=\"dataframe\">\n",
       "  <thead>\n",
       "    <tr style=\"text-align: right;\">\n",
       "      <th></th>\n",
       "      <th>testgroup</th>\n",
       "      <th>users</th>\n",
       "      <th>paying_users</th>\n",
       "      <th>ARPU</th>\n",
       "      <th>ARPPU</th>\n",
       "      <th>CR, %</th>\n",
       "    </tr>\n",
       "  </thead>\n",
       "  <tbody>\n",
       "    <tr>\n",
       "      <th>0</th>\n",
       "      <td>a</td>\n",
       "      <td>202103</td>\n",
       "      <td>1928</td>\n",
       "      <td>25.41</td>\n",
       "      <td>2664.00</td>\n",
       "      <td>0.95</td>\n",
       "    </tr>\n",
       "    <tr>\n",
       "      <th>1</th>\n",
       "      <td>b</td>\n",
       "      <td>202667</td>\n",
       "      <td>1805</td>\n",
       "      <td>26.75</td>\n",
       "      <td>3003.66</td>\n",
       "      <td>0.89</td>\n",
       "    </tr>\n",
       "  </tbody>\n",
       "</table>\n",
       "</div>"
      ],
      "text/plain": [
       "  testgroup   users  paying_users   ARPU    ARPPU  CR, %\n",
       "0         a  202103          1928  25.41  2664.00   0.95\n",
       "1         b  202667          1805  26.75  3003.66   0.89"
      ]
     },
     "execution_count": 10,
     "metadata": {},
     "output_type": "execute_result"
    }
   ],
   "source": [
    "ARPU = AB.groupby('testgroup', as_index = False) \\\n",
    "    .agg({'user_id': 'count', 'revenue': 'mean'}) \\\n",
    "    .round(2) \\\n",
    "    .rename(columns = {'user_id': 'users', 'revenue': 'ARPU'})\n",
    "\n",
    "ARPPU = AB.query('revenue > 0') \\\n",
    "    .groupby('testgroup', as_index = False) \\\n",
    "    .agg({'user_id': 'count', 'revenue': 'mean'}) \\\n",
    "    .round(2) \\\n",
    "    .rename(columns = {'user_id': 'paying_users', 'revenue': 'ARPPU'})\n",
    "\n",
    "metrics = ARPU.merge(ARPPU, on = 'testgroup')\n",
    "metrics['CR, %'] = round((metrics.paying_users / metrics.users) * 100, 2)\n",
    "\n",
    "metrics = metrics.iloc[:, [0,1,3,2,4,5]]\n",
    "metrics\n"
   ]
  },
  {
   "cell_type": "code",
   "execution_count": 11,
   "metadata": {},
   "outputs": [
    {
     "name": "stdout",
     "output_type": "stream",
     "text": [
      "diff_ARPU = 5.009345794392523\n",
      "diff_ARPPU = 11.308203991130817\n",
      "diff_CR = -0.05999999999999994\n"
     ]
    }
   ],
   "source": [
    "diff_ARPU = ((26.75 - 25.41) / 26.75) * 100\n",
    "print('diff_ARPU =', diff_ARPU)\n",
    "diff_ARPPU = ((3003.66 - 2664) / 3003.66) * 100\n",
    "print('diff_ARPPU =', diff_ARPPU)\n",
    "diff_CR = 0.89 - 0.95\n",
    "print('diff_CR =', diff_CR)"
   ]
  },
  {
   "cell_type": "markdown",
   "metadata": {},
   "source": [
    "Видим, что ARPU контрольной группы на 5 % меньше, чем у тестовой. ARPPU контрольной группы на 11.3 % меньше, чем у тестовой. Конверсия в контрольной группе больше на 0,06%, чем в тестовой.\n",
    "\\\n",
    "Посмотрим на распределения в наших группах."
   ]
  },
  {
   "cell_type": "code",
   "execution_count": 12,
   "metadata": {},
   "outputs": [
    {
     "data": {
      "text/plain": [
       "<Figure size 720x1080 with 0 Axes>"
      ]
     },
     "execution_count": 12,
     "metadata": {},
     "output_type": "execute_result"
    },
    {
     "data": {
      "text/plain": [
       "Text(0.5, 1.0, 'Count of users by groups')"
      ]
     },
     "execution_count": 12,
     "metadata": {},
     "output_type": "execute_result"
    },
    {
     "data": {
      "text/plain": [
       "Text(0.5, 0, 'Revenue')"
      ]
     },
     "execution_count": 12,
     "metadata": {},
     "output_type": "execute_result"
    },
    {
     "data": {
      "text/plain": [
       "Text(0, 0.5, '')"
      ]
     },
     "execution_count": 12,
     "metadata": {},
     "output_type": "execute_result"
    },
    {
     "data": {
      "image/png": "[encoded data removed]",
      "text/plain": [
       "<Figure size 720x1080 with 1 Axes>"
      ]
     },
     "metadata": {
      "needs_background": "light"
     },
     "output_type": "display_data"
    }
   ],
   "source": [
    "plt.figure(figsize=(10, 15))\n",
    "sns.histplot(x = 'revenue', data = AB, hue = 'testgroup').set_title('Count of users by groups')\n",
    "plt.xlabel('Revenue')\n",
    "plt.ylabel('')"
   ]
  },
  {
   "cell_type": "code",
   "execution_count": 13,
   "metadata": {},
   "outputs": [
    {
     "data": {
      "text/plain": [
       "<Figure size 720x360 with 0 Axes>"
      ]
     },
     "execution_count": 13,
     "metadata": {},
     "output_type": "execute_result"
    },
    {
     "data": {
      "text/plain": [
       "Text(0.5, 1.0, 'Count of paying users by groups')"
      ]
     },
     "execution_count": 13,
     "metadata": {},
     "output_type": "execute_result"
    },
    {
     "data": {
      "text/plain": [
       "Text(0.5, 0, 'Revenue')"
      ]
     },
     "execution_count": 13,
     "metadata": {},
     "output_type": "execute_result"
    },
    {
     "data": {
      "text/plain": [
       "Text(0, 0.5, '')"
      ]
     },
     "execution_count": 13,
     "metadata": {},
     "output_type": "execute_result"
    },
    {
     "data": {
      "image/png": "[encoded data removed]",
      "text/plain": [
       "<Figure size 720x360 with 1 Axes>"
      ]
     },
     "metadata": {
      "needs_background": "light"
     },
     "output_type": "display_data"
    }
   ],
   "source": [
    "plt.figure(figsize=(10, 5))\n",
    "sns.histplot(x = 'revenue', data = AB.query('revenue != 0'), hue = 'testgroup').set_title('Count of paying users by groups')\n",
    "plt.xlabel('Revenue')\n",
    "plt.ylabel('')"
   ]
  },
  {
   "cell_type": "markdown",
   "metadata": {},
   "source": [
    "Из графика видно, что распределение ни в одной из групп не является нормальным. \n",
    "\\\n",
    "Помимо этого в контрольной группе можно выделить две подгруппы - заплативших очень мало и, наоборот, очень много.\n",
    "\\\n",
    "В тестовой группе все пользователи платят менее 5000, а в контрольной отдельной группой можно выделить группу пользователей (123 человека (6.4 %)), вклад от которой в доход составялет практически 90 %:"
   ]
  },
  {
   "cell_type": "code",
   "execution_count": 14,
   "metadata": {},
   "outputs": [],
   "source": [
    "a = AB.query('testgroup == \"a\" and revenue > 0')\n",
    "b = AB.query('testgroup == \"b\" and revenue > 0')"
   ]
  },
  {
   "cell_type": "code",
   "execution_count": 15,
   "metadata": {},
   "outputs": [
    {
     "name": "stdout",
     "output_type": "stream",
     "text": [
      "\"Многоплатящие\" пользователи в контрольной группе -  123\n",
      "\"Многоплатящие\" пользователи в контрольной группе (% от числа пользователей) -  6.38 %\n",
      "Вклад в доход в контрольной группе от \"многоплатящих\" пользователей - 89.37 %\n"
     ]
    }
   ],
   "source": [
    "a1 = a.query('revenue > 5000').user_id.count()\n",
    "print('\"Многоплатящие\" пользователи в контрольной группе - ', a1)\n",
    "a11 = a.user_id.count()\n",
    "print('\"Многоплатящие\" пользователи в контрольной группе (% от числа пользователей) - ', round(a1 / a11 * 100, 2), '%')\n",
    "a111 = round(a.query('revenue > 5000').revenue.sum() / a.revenue.sum() * 100, 2)\n",
    "print('Вклад в доход в контрольной группе от \"многоплатящих\" пользователей -', a111, '%')"
   ]
  },
  {
   "cell_type": "markdown",
   "metadata": {},
   "source": [
    "Если посмотреть на полученную выше таблицу с метриками, то можно заметить интересный момент, что число платящих пользователей в наших группах тоже отличаются на 123 человека. И как раз в контрольной группе на 123 платящего пользователя больше.\n"
   ]
  },
  {
   "cell_type": "markdown",
   "metadata": {},
   "source": [
    "Если посмотреть на описательные характеристики в наших группах. Сначала исходные. А потом в предположении, что при дизайне A/B теста могла закрасться ошибка (уберем из рассмотрения в контрольной группе \"многоплатящих\")."
   ]
  },
  {
   "cell_type": "code",
   "execution_count": 16,
   "metadata": {},
   "outputs": [
    {
     "data": {
      "text/plain": [
       "count     1928.000000\n",
       "mean      2663.998444\n",
       "std       9049.039763\n",
       "min        200.000000\n",
       "25%        257.000000\n",
       "50%        311.000000\n",
       "75%        361.000000\n",
       "max      37433.000000\n",
       "Name: revenue, dtype: float64"
      ]
     },
     "execution_count": 16,
     "metadata": {},
     "output_type": "execute_result"
    },
    {
     "data": {
      "text/plain": [
       "count    1805.000000\n",
       "mean     3003.658172\n",
       "std       572.619709\n",
       "min      2000.000000\n",
       "25%      2513.000000\n",
       "50%      3022.000000\n",
       "75%      3478.000000\n",
       "max      4000.000000\n",
       "Name: revenue, dtype: float64"
      ]
     },
     "execution_count": 16,
     "metadata": {},
     "output_type": "execute_result"
    }
   ],
   "source": [
    "a.revenue.describe()\n",
    "b.revenue.describe()"
   ]
  },
  {
   "cell_type": "code",
   "execution_count": 17,
   "metadata": {},
   "outputs": [
    {
     "data": {
      "text/plain": [
       "count    1805.000000\n",
       "mean      302.458172\n",
       "std        57.914246\n",
       "min       200.000000\n",
       "25%       254.000000\n",
       "50%       305.000000\n",
       "75%       352.000000\n",
       "max       400.000000\n",
       "Name: revenue, dtype: float64"
      ]
     },
     "execution_count": 17,
     "metadata": {},
     "output_type": "execute_result"
    },
    {
     "data": {
      "text/plain": [
       "count    1805.000000\n",
       "mean     3003.658172\n",
       "std       572.619709\n",
       "min      2000.000000\n",
       "25%      2513.000000\n",
       "50%      3022.000000\n",
       "75%      3478.000000\n",
       "max      4000.000000\n",
       "Name: revenue, dtype: float64"
      ]
     },
     "execution_count": 17,
     "metadata": {},
     "output_type": "execute_result"
    }
   ],
   "source": [
    "a.query('revenue < 5000').revenue.describe()\n",
    "b.revenue.describe()"
   ]
  },
  {
   "cell_type": "markdown",
   "metadata": {},
   "source": [
    "При рассмотрении данных без \"Многоплатящих\" пользователей виден интересный факт. Все характеристики отличаются практически в 10 раз. Что также говорит о некой \"странности\" дизайна A\\B теста. Может быть это фишка компании - иметь такую группу пользователей. Однако, исходных данных недостаточно для того, чтобы просто выкинуть ее из рассмотрения, поэтому продолжим анализ вместе с ней."
   ]
  },
  {
   "cell_type": "markdown",
   "metadata": {},
   "source": [
    "Как мы уже заметили выше - распределения для обеих групп не являются нормальным. Однако, для полного удостоверения в этом проведем normaltest."
   ]
  },
  {
   "cell_type": "code",
   "execution_count": 18,
   "metadata": {},
   "outputs": [
    {
     "data": {
      "text/plain": [
       "NormaltestResult(statistic=585152.7312728433, pvalue=0.0)"
      ]
     },
     "execution_count": 18,
     "metadata": {},
     "output_type": "execute_result"
    },
    {
     "data": {
      "text/plain": [
       "NormaltestResult(statistic=326622.39540856465, pvalue=0.0)"
      ]
     },
     "execution_count": 18,
     "metadata": {},
     "output_type": "execute_result"
    },
    {
     "data": {
      "text/plain": [
       "NormaltestResult(statistic=1394.9457843086925, pvalue=1.2341605505935488e-303)"
      ]
     },
     "execution_count": 18,
     "metadata": {},
     "output_type": "execute_result"
    },
    {
     "data": {
      "text/plain": [
       "NormaltestResult(statistic=1068.8600084412267, pvalue=7.943249488371762e-233)"
      ]
     },
     "execution_count": 18,
     "metadata": {},
     "output_type": "execute_result"
    }
   ],
   "source": [
    "stats.normaltest(AB.query('testgroup == \"a\"').revenue)\n",
    "stats.normaltest(AB.query('testgroup == \"b\"').revenue)\n",
    "stats.normaltest(a.revenue)\n",
    "stats.normaltest(b.revenue)"
   ]
  },
  {
   "cell_type": "markdown",
   "metadata": {},
   "source": [
    "Видим, что и в случае рассмотрения всех пользователей в каждой группе, и в случае рассмотрения только платящих пользователей в каждой группе normaltest также говорит нам о ненормальности распределений."
   ]
  },
  {
   "cell_type": "markdown",
   "metadata": {},
   "source": [
    "Проверим гомогенность дисперсий наших выборок с помощью критерия Левена."
   ]
  },
  {
   "cell_type": "code",
   "execution_count": 19,
   "metadata": {},
   "outputs": [
    {
     "data": {
      "text/plain": [
       "LeveneResult(statistic=0.3896289474701388, pvalue=0.5324948591043842)"
      ]
     },
     "execution_count": 19,
     "metadata": {},
     "output_type": "execute_result"
    },
    {
     "data": {
      "text/plain": [
       "LeveneResult(statistic=80.85567421779912, pvalue=3.779689868667878e-19)"
      ]
     },
     "execution_count": 19,
     "metadata": {},
     "output_type": "execute_result"
    }
   ],
   "source": [
    "stats.levene(AB.query('testgroup == \"a\"').revenue, AB.query('testgroup == \"b\"').revenue)\n",
    "stats.levene(a.revenue, b.revenue)"
   ]
  },
  {
   "cell_type": "markdown",
   "metadata": {},
   "source": [
    "При рассмотрении всех пользователей дисперсии гомогенны. При рассмотрении только платящих - нет."
   ]
  },
  {
   "cell_type": "markdown",
   "metadata": {},
   "source": [
    "Можем ли мы применить для сравнения ARPU, ARPPU в группах t-тест?\n",
    "\\\n",
    "С одной стороны - распределения у нас ненормальны. Плюс - в одном из случаев негомоггенны дисперсии.\n",
    "\\\n",
    "Однако, один из случаев, когда t-тест применим - распределение может быть неравномерным, дисперсия неизвестна и выборка большая (больше 30 как принято).\n",
    "\\\n",
    "Для того, чтобы использовать данный случай для применения t-теста нам осталось только проверить нормальность распределения средних.\n",
    "\\\n",
    "Сделаем это."
   ]
  },
  {
   "cell_type": "code",
   "execution_count": 20,
   "metadata": {},
   "outputs": [],
   "source": [
    "def mean_distribution(df_1, df_2, boot_it, statistic = np.mean):\n",
    "\n",
    "    boot_len_a = len(df_1)\n",
    "    boot_len_b = len(df_2)\n",
    "    \n",
    "    boot_df_shapiro_a = [] \n",
    "    boot_df_shapiro_b = []\n",
    "    \n",
    "    for i in tqdm(range(boot_it)):\n",
    "        \n",
    "        # извлечем подвыборки\n",
    "        \n",
    "        samples_a = df_1.revenue.sample(boot_len_a, replace = True).values\n",
    "        \n",
    "        samples_b = df_2.revenue.sample(boot_len_b, replace = True).values\n",
    "        \n",
    "        # добавляем средние значения в списки выше\n",
    "        \n",
    "        boot_df_shapiro_a.append(statistic(samples_a))\n",
    "        boot_df_shapiro_b.append(statistic(samples_b))\n",
    "        \n",
    "    # Применяем критерий Шапиро-Уилка на каждом из списков\n",
    "    # Нулевая гипотеза - распределение нормально\n",
    "    # Альтернативная - распределение не нормальное\n",
    "    \n",
    "    shapiro_a = scipy.stats.shapiro(boot_df_shapiro_a)\n",
    "    shapiro_b = scipy.stats.shapiro(boot_df_shapiro_b)\n",
    "    \n",
    "    # Для визуализации\n",
    "    \n",
    "    pd_boot_data_a = pd.DataFrame(boot_df_shapiro_a)\n",
    "    pd_boot_data_b = pd.DataFrame(boot_df_shapiro_b)\n",
    "    \n",
    "    plt.hist(pd_boot_data_a[0], bins = 50)\n",
    "    plt.hist(pd_boot_data_b[0], bins = 50)\n",
    "    \n",
    "    plt.style.use('ggplot')\n",
    "    plt.xlabel('boot_data')\n",
    "    plt.ylabel('frequency')\n",
    "    plt.title(\"Histogram of mean distribution\")\n",
    "    plt.show()\n",
    "    \n",
    "    # Вернем значения Шапиро-Уилка\n",
    "    \n",
    "    return shapiro_a, shapiro_b"
   ]
  },
  {
   "cell_type": "code",
   "execution_count": 21,
   "metadata": {},
   "outputs": [
    {
     "data": {
      "application/vnd.jupyter.widget-view+json": {
       "model_id": "62a6f13f7033427190e3a3ec8fc2014b",
       "version_major": 2,
       "version_minor": 0
      },
      "text/plain": [
       "HBox(children=(FloatProgress(value=0.0, max=1000.0), HTML(value='')))"
      ]
     },
     "metadata": {},
     "output_type": "display_data"
    },
    {
     "name": "stdout",
     "output_type": "stream",
     "text": [
      "\n"
     ]
    },
    {
     "data": {
      "image/png": "[encoded data removed]",
      "text/plain": [
       "<Figure size 432x288 with 1 Axes>"
      ]
     },
     "metadata": {
      "needs_background": "light"
     },
     "output_type": "display_data"
    },
    {
     "data": {
      "text/plain": [
       "(ShapiroResult(statistic=0.9974434971809387, pvalue=0.11840930581092834),\n",
       " ShapiroResult(statistic=0.9982408881187439, pvalue=0.39850422739982605))"
      ]
     },
     "execution_count": 21,
     "metadata": {},
     "output_type": "execute_result"
    }
   ],
   "source": [
    "mean_distribution(AB.query('testgroup == \"a\"'), AB.query('testgroup == \"b\"'), 1000)"
   ]
  },
  {
   "cell_type": "code",
   "execution_count": 22,
   "metadata": {},
   "outputs": [
    {
     "data": {
      "application/vnd.jupyter.widget-view+json": {
       "model_id": "27aa3204618c42ca8b647f6eff11a96f",
       "version_major": 2,
       "version_minor": 0
      },
      "text/plain": [
       "HBox(children=(FloatProgress(value=0.0, max=1000.0), HTML(value='')))"
      ]
     },
     "metadata": {},
     "output_type": "display_data"
    },
    {
     "name": "stdout",
     "output_type": "stream",
     "text": [
      "\n"
     ]
    },
    {
     "data": {
      "image/png": "[encoded data removed]",
      "text/plain": [
       "<Figure size 432x288 with 1 Axes>"
      ]
     },
     "metadata": {},
     "output_type": "display_data"
    },
    {
     "data": {
      "text/plain": [
       "(ShapiroResult(statistic=0.9971511363983154, pvalue=0.07337246090173721),\n",
       " ShapiroResult(statistic=0.9986748695373535, pvalue=0.6716021299362183))"
      ]
     },
     "execution_count": 22,
     "metadata": {},
     "output_type": "execute_result"
    }
   ],
   "source": [
    "mean_distribution(a, b, 1000)"
   ]
  },
  {
   "cell_type": "markdown",
   "metadata": {},
   "source": [
    "Исходя из рассмотренного распределения средних внутри групп как среди всех пользователей, так и исключительно платящих пользователей - они имеют нормальное распределение (p-value достатночно намного превышает 0.05, отклонить нулевую гипотезу нет оснований).\n",
    "\\\n",
    "Таким образом, мы можем применить t-тест для ARPU, ARPPU."
   ]
  },
  {
   "cell_type": "markdown",
   "metadata": {},
   "source": [
    "H0 - статистически значимых различий нет;\n",
    "H1 - есть статистически значимые различия"
   ]
  },
  {
   "cell_type": "code",
   "execution_count": 23,
   "metadata": {},
   "outputs": [
    {
     "name": "stdout",
     "output_type": "stream",
     "text": [
      "t-тест для ARPU:\n"
     ]
    },
    {
     "data": {
      "text/plain": [
       "Ttest_indResult(statistic=-0.6242026493616787, pvalue=0.532494858971837)"
      ]
     },
     "execution_count": 23,
     "metadata": {},
     "output_type": "execute_result"
    }
   ],
   "source": [
    "print('t-тест для ARPU:')\n",
    "scipy.stats.ttest_ind(AB.query('testgroup == \"a\"').revenue, AB.query('testgroup == \"b\"').revenue)"
   ]
  },
  {
   "cell_type": "code",
   "execution_count": 24,
   "metadata": {},
   "outputs": [
    {
     "name": "stdout",
     "output_type": "stream",
     "text": [
      "t-тест для ARPPU:\n"
     ]
    },
    {
     "data": {
      "text/plain": [
       "Ttest_indResult(statistic=-1.5917100176862002, pvalue=0.11153459157259504)"
      ]
     },
     "execution_count": 24,
     "metadata": {},
     "output_type": "execute_result"
    }
   ],
   "source": [
    "print('t-тест для ARPPU:')\n",
    "scipy.stats.ttest_ind(a.revenue, b.revenue)"
   ]
  },
  {
   "cell_type": "markdown",
   "metadata": {},
   "source": [
    "Таким образом, в обоих случаях p-value > 0.05, а следовательно мы не можем отклонить H0, а значит - статистически значимых различий нет."
   ]
  },
  {
   "cell_type": "markdown",
   "metadata": {},
   "source": [
    "Замечание. \n",
    "\\\n",
    "Также для исследования ARPU, ARPPU можно было использовать метод бутстрап (приведем для примера)."
   ]
  },
  {
   "cell_type": "code",
   "execution_count": 25,
   "metadata": {},
   "outputs": [],
   "source": [
    "# Объявим функцию, которая позволит проверять гипотезы с помощью бутстрапа \n",
    "def get_bootstrap(\n",
    "    data_column_1, # числовые значения первой выборки\n",
    "    data_column_2, # числовые значения второй выборки\n",
    "    boot_it = 1000, # количество бутстрэп-подвыборок\n",
    "    statistic = np.mean, # интересующая нас статистика\n",
    "    bootstrap_conf_level = 0.95 # уровень значимости\n",
    "):\n",
    "    boot_data = []\n",
    "    for i in tqdm(range(boot_it)): # извлекаем подвыборки\n",
    "        samples_1 = data_column_1.sample(\n",
    "            len(data_column_1), \n",
    "            replace = True # параметр возвращения\n",
    "        ).values\n",
    "        \n",
    "        samples_2 = data_column_2.sample(\n",
    "            len(data_column_1), \n",
    "            replace = True\n",
    "        ).values\n",
    "        \n",
    "        boot_data.append(statistic(samples_1)-statistic(samples_2)) # mean() - применяем статистику\n",
    "        \n",
    "    pd_boot_data = pd.DataFrame(boot_data)\n",
    "        \n",
    "    left_quant = (1 - bootstrap_conf_level)/2\n",
    "    right_quant = 1 - (1 - bootstrap_conf_level) / 2\n",
    "    quants = pd_boot_data.quantile([left_quant, right_quant])\n",
    "        \n",
    "    p_1 = norm.cdf(\n",
    "        x = 0, \n",
    "        loc = np.mean(boot_data), \n",
    "        scale = np.std(boot_data)\n",
    "    )\n",
    "    p_2 = norm.cdf(\n",
    "        x = 0, \n",
    "        loc = -np.mean(boot_data), \n",
    "        scale = np.std(boot_data)\n",
    "    )\n",
    "    p_value = min(p_1, p_2) * 2\n",
    "        \n",
    "    # Визуализация\n",
    "    _, _, bars = plt.hist(pd_boot_data[0], bins = 50)\n",
    "    for bar in bars:\n",
    "        if bar.get_x() <= quants.iloc[0][0] or bar.get_x() >= quants.iloc[1][0]:\n",
    "            bar.set_facecolor('red')\n",
    "        else: \n",
    "            bar.set_facecolor('grey')\n",
    "            bar.set_edgecolor('black')\n",
    "    \n",
    "    plt.style.use('ggplot')\n",
    "    plt.vlines(quants,ymin=0,ymax=50,linestyle='--')\n",
    "    plt.xlabel('boot_data')\n",
    "    plt.ylabel('frequency')\n",
    "    plt.title(\"Histogram of boot_data\")\n",
    "    plt.show()\n",
    "       \n",
    "    return {\"boot_data\": boot_data, \n",
    "            \"quants\": quants, \n",
    "            \"p_value\": p_value}"
   ]
  },
  {
   "cell_type": "markdown",
   "metadata": {},
   "source": [
    "Применим bootstrap (расчет через среднее значение) для наших изначальных двух групп. Построим гистограмму, а также рассчитаем p-value"
   ]
  },
  {
   "cell_type": "code",
   "execution_count": 26,
   "metadata": {},
   "outputs": [
    {
     "data": {
      "application/vnd.jupyter.widget-view+json": {
       "model_id": "81bdd21b34854e1d9faf7dfcba1a4db7",
       "version_major": 2,
       "version_minor": 0
      },
      "text/plain": [
       "HBox(children=(FloatProgress(value=0.0, max=1000.0), HTML(value='')))"
      ]
     },
     "metadata": {},
     "output_type": "display_data"
    },
    {
     "name": "stdout",
     "output_type": "stream",
     "text": [
      "\n"
     ]
    },
    {
     "data": {
      "image/png": "[encoded data removed]",
      "text/plain": [
       "<Figure size 432x288 with 1 Axes>"
      ]
     },
     "metadata": {},
     "output_type": "display_data"
    }
   ],
   "source": [
    "booted_data_mean_ARPU = get_bootstrap(AB[AB.testgroup == \"a\"].revenue, \n",
    "                                     AB[AB.testgroup == \"b\"].revenue, \n",
    "                                     boot_it = 1000,\n",
    "                                     statistic = np.mean)"
   ]
  },
  {
   "cell_type": "code",
   "execution_count": 27,
   "metadata": {},
   "outputs": [
    {
     "data": {
      "text/plain": [
       "0.5645057323543581"
      ]
     },
     "execution_count": 27,
     "metadata": {},
     "output_type": "execute_result"
    }
   ],
   "source": [
    "booted_data_mean_ARPU[\"p_value\"] "
   ]
  },
  {
   "cell_type": "markdown",
   "metadata": {},
   "source": [
    "Из полученного графика видно, что 0 попадает в доверительный интервал, то есть статистической разницы по ARPU мы не выявили.\n",
    "\\\n",
    "Также и по p-value, которое > 0.05, можно сказать об отсутствии статистически значимых различий ARPU между группами."
   ]
  },
  {
   "cell_type": "markdown",
   "metadata": {},
   "source": [
    "Применим бутстрап для исследования ARPPU (платящих пользователей)."
   ]
  },
  {
   "cell_type": "code",
   "execution_count": 28,
   "metadata": {},
   "outputs": [
    {
     "data": {
      "application/vnd.jupyter.widget-view+json": {
       "model_id": "3932fcf9fb904657b13a78578960609e",
       "version_major": 2,
       "version_minor": 0
      },
      "text/plain": [
       "HBox(children=(FloatProgress(value=0.0, max=1000.0), HTML(value='')))"
      ]
     },
     "metadata": {},
     "output_type": "display_data"
    },
    {
     "name": "stdout",
     "output_type": "stream",
     "text": [
      "\n"
     ]
    },
    {
     "data": {
      "image/png": "[encoded data removed]",
      "text/plain": [
       "<Figure size 432x288 with 1 Axes>"
      ]
     },
     "metadata": {},
     "output_type": "display_data"
    }
   ],
   "source": [
    "booted_data_mean_ARPPU = get_bootstrap(a.revenue, \n",
    "                                     b.revenue, \n",
    "                                     boot_it = 1000,\n",
    "                                     statistic = np.mean)"
   ]
  },
  {
   "cell_type": "code",
   "execution_count": 29,
   "metadata": {},
   "outputs": [
    {
     "data": {
      "text/plain": [
       "0.0961906207636896"
      ]
     },
     "execution_count": 29,
     "metadata": {},
     "output_type": "execute_result"
    }
   ],
   "source": [
    "booted_data_mean_ARPPU[\"p_value\"] "
   ]
  },
  {
   "cell_type": "markdown",
   "metadata": {},
   "source": [
    "Как и в случае с ARPU на графике 0 попадает в доверительный интервал, то есть статистической разницы по ARPPU также нет.\n",
    "Как и по p-value, которое больше 0.05"
   ]
  },
  {
   "cell_type": "markdown",
   "metadata": {},
   "source": [
    "Таким образом, мы видим, что и при использовании бутстрапа, также, как и при использовании t-теста, мы не получили стат значимых различий ARPU, ARPPU между группами."
   ]
  },
  {
   "cell_type": "markdown",
   "metadata": {},
   "source": [
    "Для анализа CR применим критерий хи-квадрат.\n",
    "\\\n",
    "H0 - статистически значимых различий нет;\n",
    "H1 - есть статистически значимые различия"
   ]
  },
  {
   "cell_type": "code",
   "execution_count": 30,
   "metadata": {},
   "outputs": [
    {
     "data": {
      "text/html": [
       "<div>\n",
       "<style scoped>\n",
       "    .dataframe tbody tr th:only-of-type {\n",
       "        vertical-align: middle;\n",
       "    }\n",
       "\n",
       "    .dataframe tbody tr th {\n",
       "        vertical-align: top;\n",
       "    }\n",
       "\n",
       "    .dataframe thead th {\n",
       "        text-align: right;\n",
       "    }\n",
       "</style>\n",
       "<table border=\"1\" class=\"dataframe\">\n",
       "  <thead>\n",
       "    <tr style=\"text-align: right;\">\n",
       "      <th>testgroup</th>\n",
       "      <th>a</th>\n",
       "      <th>b</th>\n",
       "    </tr>\n",
       "    <tr>\n",
       "      <th>paying</th>\n",
       "      <th></th>\n",
       "      <th></th>\n",
       "    </tr>\n",
       "  </thead>\n",
       "  <tbody>\n",
       "    <tr>\n",
       "      <th>0</th>\n",
       "      <td>200175</td>\n",
       "      <td>200862</td>\n",
       "    </tr>\n",
       "    <tr>\n",
       "      <th>1</th>\n",
       "      <td>1928</td>\n",
       "      <td>1805</td>\n",
       "    </tr>\n",
       "  </tbody>\n",
       "</table>\n",
       "</div>"
      ],
      "text/plain": [
       "testgroup       a       b\n",
       "paying                   \n",
       "0          200175  200862\n",
       "1            1928    1805"
      ]
     },
     "execution_count": 30,
     "metadata": {},
     "output_type": "execute_result"
    },
    {
     "name": "stdout",
     "output_type": "stream",
     "text": [
      "--------------------------------------------------------------\n",
      "Значения статистики и p-value для критерия хи-квадрат\n"
     ]
    },
    {
     "data": {
      "text/plain": [
       "(4.374729521260405, 0.03647561892312613)"
      ]
     },
     "execution_count": 30,
     "metadata": {},
     "output_type": "execute_result"
    },
    {
     "name": "stdout",
     "output_type": "stream",
     "text": [
      "--------------------------------------------------------------\n",
      "Отклоняем H0\n"
     ]
    }
   ],
   "source": [
    "AB['paying'] = np.where(AB.revenue > 0, 1, 0)\n",
    "pd.crosstab(AB.paying, AB.testgroup)\n",
    "print('--------------------------------------------------------------')\n",
    "stat, p, dof, expected = scipy.stats.chi2_contingency(pd.crosstab(AB.testgroup, AB.paying))\n",
    "print('Значения статистики и p-value для критерия хи-квадрат')\n",
    "stat, p \n",
    "print('--------------------------------------------------------------')\n",
    "prob = 0.95\n",
    "critical = scipy.stats.chi2.ppf(prob, dof)\n",
    "if abs(stat) >= critical:\n",
    "    print('Отклоняем H0')\n",
    "else:\n",
    "    print('Не отклоняем H0')"
   ]
  },
  {
   "cell_type": "markdown",
   "metadata": {},
   "source": [
    "Таким образом, при анализе конверсий мы получаем, что различия между группами статистически значимы."
   ]
  },
  {
   "cell_type": "markdown",
   "metadata": {},
   "source": [
    " \n",
    " \n",
    "## Выводы:\n",
    "\n",
    "Стоит сразу сказать, что распределения в наших подгруппах носят значительно разный характер. В тестовой группе, пусть распределение и не является нормальным, все пользователи платят в пределх 2 - 4 тысяч. В контрольной же группе более 90 % пользователей платят очень маленькие суммы, а небольшая подгруппа огромные суммы, при этом вклад от которых составялет почти 90 %.\n",
    "\\\n",
    "\\\n",
    "Есть и остаются вопросы к самому дизайну A\\B теста. К тому, какие желания важнее для фирмы.\n",
    "Можно держаться практически за всех пользователей, и они будут платить \"средние\" сумма - тогда набор предложений, возможных акций от фирмы будет один.\n",
    "\\\n",
    "\\\n",
    "Можно пойти по другому пути и больше внимания уделять многоплатящим пользователям - другой набор акций и предложений.\n",
    "\\\n",
    "\\\n",
    "Самое правильное решение - все переделать - провести сплитование правильным образом и повторить тест.\n",
    "\\\n",
    "\\\n",
    "С точки зрения проведенного анализа теста (t-тест и бутсрап для ARPU, ARPPU, критерий хи-квадрат для CR) по имеющимся исходным данным (без выкидывания \"многоплатящих\" пользователей):\n",
    "\\\n",
    "\\\n",
    "Статистически значимых различий в ARPU, ARPPU между контрольной и тестовой группой не выявлено.\n",
    "\\\n",
    "\\\n",
    "Выявлены статистически значимые различия в CR между группами. Причем в контрольной группе показатель выше, а значит, нужно оставить тот набор предложенй, что был.\n",
    "\\\n",
    "\\\n",
    "P.S. На свое усмотрение я бы предпочел вариант, в котором, да, мы потеряем в конверсии, однако, получим более надежный и стабильный доход. Как основной момент такого выбора - в случае потери даже нескольких пользователей во втором варианте - велика вероятность высокой потери прибыли, если эти пользователи окажутся из подгруппы многоплатящих."
   ]
  },
  {
   "cell_type": "markdown",
   "metadata": {},
   "source": [
    "\n",
    "\n",
    "\n",
    "\n",
    "## Задание 3\n",
    "\n",
    "В игре Plants & Gardens каждый месяц проводятся тематические события, ограниченные по времени. В них игроки могут получить уникальные предметы для сада и персонажей, дополнительные монеты или бонусы. Для получения награды требуется пройти ряд уровней за определенное время. С помощью каких метрик можно оценить результаты последнего прошедшего события?\n",
    "\n",
    "Предположим, в другом событии мы усложнили механику событий так, что при каждой неудачной попытке выполнения уровня игрок будет откатываться на несколько уровней назад. Изменится ли набор метрик оценки результата? Если да, то как?"
   ]
  },
  {
   "cell_type": "markdown",
   "metadata": {},
   "source": [
    "## Первый случай"
   ]
  },
  {
   "cell_type": "markdown",
   "metadata": {},
   "source": [
    "Бизнес метрики на мой взгляд должны быть следующими:\n",
    "\n",
    "1. DAU, WAU, MAU - количество уникальных пользователей за сутки/неделю/месяц. Можно сравнить количество пользователей в дни с тематическими событиями и в обычные дни.\n",
    "\n",
    "2. CR - можно оценить влияние ивента на данный показатель. Сравнивать с тем, что было до ивента. (Думаю, что стоит смотреть ежедневно).\n",
    "\n",
    "3. ARPU и ARPPU - можно оценить влияние ивента (например, будет ли пользователь становиться платящим, чтобы проходить трудные задания с целью получить лучшие награды), в целом оценить, прибыльные ли ивент для компании или нет.\n",
    "\n",
    "4. Retention - можно посмотреть, будут ли пользователи чаще заходить в игру во время (и как изменится показатель после окончания ивента) проведения ивента. Анализ заинтересованности пользователями ивентом. Проверять в зависимости от длительности ивента (день, неделя).\n",
    "\n",
    "Метрики ниже уже больше относятся к \"техническим\", но их тоже стоит отслеживать:\n",
    "\n",
    "5. Stickiness - сравнить \"липкость\" в обычные дни и в дни с ивентами.\n",
    "\n",
    "6. Session и ASD — время, проведенное пользователем в мобильном приложении/среднее время сессий за период времени. Можно посмотреть, будет ли пользователь проводить в приложении больше времени во время ивента.\n",
    "\n",
    "7. Количество попыток на прохождение уровня.\n",
    "\n",
    "8. Максимальный уровень, до которого смогли добраться. Можно посмотреть, что можно изменить, чтобы не терять пользователей, если уровень окажется \"непроходимым\".\n",
    "\n",
    "Все метрики нужно смотреть по ходу ивента, но и не забывать посмотреть на них и какое-то время после, чтобы проанализировать прошедший ивент, понять, что было хорошо, что плохо. И получить возможность усовершенствовать для следующего ивента."
   ]
  },
  {
   "cell_type": "markdown",
   "metadata": {},
   "source": [
    "## Второй случай"
   ]
  },
  {
   "cell_type": "markdown",
   "metadata": {},
   "source": [
    "Помимо метрик из первого случая также можно добавить следующие:\n",
    "\n",
    "1. Посмотреть ОТКАТ пользователей после неудачной попытки (одной, двух, трех и т.д.).\n",
    "\n",
    "\n",
    "2. Выяснить УРОВНИ, на которыз чаще всего происходят откаты.\n",
    "\n",
    "\n",
    "3. Найти \"ТОЧКУ НЕВОЗВРАТА\" - среднее число откатов на пользователя - после какого количества неудачных попыток пользователь перестает заходить в игру.\n",
    "\n",
    "Особенно нужно смотреть на показатель retention в случае усложнения. Основные дополнительные метрики в случае \"усложнения\" нацелены на то, чтобы понимать, когда у нас происходит момент, что мы начинаем терять пользоваелей, и отследить, что нужно поменять, чтобы этого не происходило."
   ]
  }
 ],
 "metadata": {
  "kernelspec": {
   "display_name": "Python 3",
   "language": "python",
   "name": "python3"
  },
  "language_info": {
   "codemirror_mode": {
    "name": "ipython",
    "version": 3
   },
   "file_extension": ".py",
   "mimetype": "text/x-python",
   "name": "python",
   "nbconvert_exporter": "python",
   "pygments_lexer": "ipython3",
   "version": "3.7.3"
  }
 },
 "nbformat": 4,
 "nbformat_minor": 4
}
